{
 "cells": [
  {
   "cell_type": "markdown",
   "metadata": {},
   "source": [
    "**Технологический процесс**\n",
    "\n",
    "Как золото получают из руды? Изучите внимательно стадии процесса.\n",
    "Когда добытая руда проходит первичную обработку, получается дроблёная смесь. Её отправляют на флотацию (обогащение) и двухэтапную очистку.\n",
    "\n",
    "Опишем каждую стадию:\n",
    "\n",
    "1. Флотация\n",
    "\n",
    "Во флотационную установку подаётся смесь золотосодержащей руды. После обогащения получается черновой концентрат и «отвальные хвосты», то есть остатки продукта с низкой концентрацией ценных металлов.\n",
    "На стабильность этого процесса влияет непостоянное и неоптимальное физико-химическое состояние флотационной пульпы (смеси твёрдых частиц и жидкости).\n",
    "\n",
    "2. Очистка\n",
    "\n",
    "Черновой концентрат проходит две очистки. На выходе получается финальный концентрат и новые отвальные хвосты.\n",
    "\n",
    "*Описание данных*\n",
    "\n",
    "🞓Rougher feed — исходное сырье\n",
    "\n",
    "🞓Rougher additions (или reagent additions) — флотационные реагенты:\n",
    "\n",
    "• Xanthate — ксантогенат (промотер, или активатор флотации);\n",
    "\n",
    "• Sulphate — сульфат (на данном производстве сульфид натрия);\n",
    "\n",
    "• Depressant — депрессант (силикат натрия).\n",
    "\n",
    "🞓Rougher process (англ. «грубый процесс») — флотация\n",
    "\n",
    "🞓Rougher tails — отвальные хвосты\n",
    "\n",
    "🞓Float banks — флотационная установка\n",
    "\n",
    "🞓Cleaner process — очистка\n",
    "\n",
    "🞓Rougher Au — черновой концентрат золота\n",
    "\n",
    "🞓Final Au — финальный концентрат золота\n",
    "\n",
    "*Параметры этапов*\n",
    "\n",
    "•air amount — объём воздуха\n",
    "\n",
    "•fluid levels — уровень жидкости\n",
    "\n",
    "•feed size — размер гранул сырья\n",
    "\n",
    "•feed rate — скорость подачи\n",
    "\n",
    "*Наименование признаков*\n",
    "\n",
    "<u>**Наименование признаков должно быть такое:**<u>\n",
    "\n",
    "[этап].[тип_параметра].[название_параметра]\n",
    "Пример: rougher.input.feed_ag\n",
    "\n",
    "<u> Возможные значения для блока [этап]: <u>\n",
    "\n",
    "•rougher — флотация,\n",
    "\n",
    "•primary_cleaner — первичная очистка\n",
    "\n",
    "•secondary_cleaner — вторичная очистка\n",
    "\n",
    "•final — финальные характеристики\n",
    "\n",
    "<u> Возможные значения для блока [тип_параметра]:<u>\n",
    "\n",
    "•input — параметры сырья\n",
    "\n",
    "•output — параметры продукта\n",
    "\n",
    "•state — параметры, характеризующие текущее состояние этапа\n",
    "\n",
    "•calculation — расчётные характеристики"
   ]
  },
  {
   "cell_type": "markdown",
   "metadata": {
    "toc": true
   },
   "source": [
    "<h1>Содержание<span class=\"tocSkip\"></span></h1>\n",
    "<div class=\"toc\"><ul class=\"toc-item\"><li><span><a href=\"#ПОДГОТОВКА-ДАННЫХ\" data-toc-modified-id=\"ПОДГОТОВКА-ДАННЫХ-1\"><span class=\"toc-item-num\">1&nbsp;&nbsp;</span>ПОДГОТОВКА ДАННЫХ</a></span><ul class=\"toc-item\"><li><span><a href=\"#Общая-информация-о-данных.\" data-toc-modified-id=\"Общая-информация-о-данных.-1.1\"><span class=\"toc-item-num\">1.1&nbsp;&nbsp;</span>Общая информация о данных.</a></span></li><li><span><a href=\"#Проверка-эффективности-обогащения\" data-toc-modified-id=\"Проверка-эффективности-обогащения-1.2\"><span class=\"toc-item-num\">1.2&nbsp;&nbsp;</span>Проверка эффективности обогащения</a></span></li><li><span><a href=\"#Недоступные-признаки.\" data-toc-modified-id=\"Недоступные-признаки.-1.3\"><span class=\"toc-item-num\">1.3&nbsp;&nbsp;</span>Недоступные признаки.</a></span></li><li><span><a href=\"#Анализ-недостающих-признаков\" data-toc-modified-id=\"Анализ-недостающих-признаков-1.4\"><span class=\"toc-item-num\">1.4&nbsp;&nbsp;</span>Анализ недостающих признаков</a></span></li><li><span><a href=\"#Изменение-типа-данных.\" data-toc-modified-id=\"Изменение-типа-данных.-1.5\"><span class=\"toc-item-num\">1.5&nbsp;&nbsp;</span>Изменение типа данных.</a></span></li><li><span><a href=\"#Проверка-на-наличие-явных-дубликатов.\" data-toc-modified-id=\"Проверка-на-наличие-явных-дубликатов.-1.6\"><span class=\"toc-item-num\">1.6&nbsp;&nbsp;</span>Проверка на наличие явных дубликатов.</a></span></li><li><span><a href=\"#Заполнение-пропусков.\" data-toc-modified-id=\"Заполнение-пропусков.-1.7\"><span class=\"toc-item-num\">1.7&nbsp;&nbsp;</span>Заполнение пропусков.</a></span></li><li><span><a href=\"#Добавление-целевых-признаков--в-тестовую-выборку\" data-toc-modified-id=\"Добавление-целевых-признаков--в-тестовую-выборку-1.8\"><span class=\"toc-item-num\">1.8&nbsp;&nbsp;</span>Добавление целевых признаков  в тестовую выборку</a></span></li><li><span><a href=\"#Удаление-индексации\" data-toc-modified-id=\"Удаление-индексации-1.9\"><span class=\"toc-item-num\">1.9&nbsp;&nbsp;</span>Удаление индексации</a></span></li></ul></li><li><span><a href=\"#АНАЛИЗ-ДАННЫХ\" data-toc-modified-id=\"АНАЛИЗ-ДАННЫХ-2\"><span class=\"toc-item-num\">2&nbsp;&nbsp;</span>АНАЛИЗ ДАННЫХ</a></span><ul class=\"toc-item\"><li><span><a href=\"#Изменение-концентраций-золота,-серебра-и-свинца-на-различных-этапах-очистки\" data-toc-modified-id=\"Изменение-концентраций-золота,-серебра-и-свинца-на-различных-этапах-очистки-2.1\"><span class=\"toc-item-num\">2.1&nbsp;&nbsp;</span>Изменение концентраций золота, серебра и свинца на различных этапах очистки</a></span></li><li><span><a href=\"#Сравним-распределения-размеров-гранул-сырья-на-обучающей-и-тестовой-выборках\" data-toc-modified-id=\"Сравним-распределения-размеров-гранул-сырья-на-обучающей-и-тестовой-выборках-2.2\"><span class=\"toc-item-num\">2.2&nbsp;&nbsp;</span>Сравним распределения размеров гранул сырья на обучающей и тестовой выборках</a></span></li><li><span><a href=\"#Исследуем-суммарную-концентрацию-всех-веществ-на-разных-стадиях\" data-toc-modified-id=\"Исследуем-суммарную-концентрацию-всех-веществ-на-разных-стадиях-2.3\"><span class=\"toc-item-num\">2.3&nbsp;&nbsp;</span>Исследуем суммарную концентрацию всех веществ на разных стадиях</a></span></li><li><span><a href=\"#Удаление-выбросов\" data-toc-modified-id=\"Удаление-выбросов-2.4\"><span class=\"toc-item-num\">2.4&nbsp;&nbsp;</span>Удаление выбросов</a></span></li></ul></li><li><span><a href=\"#ПОСТРОЕНИЕ-МОДЕЛИ\" data-toc-modified-id=\"ПОСТРОЕНИЕ-МОДЕЛИ-3\"><span class=\"toc-item-num\">3&nbsp;&nbsp;</span>ПОСТРОЕНИЕ МОДЕЛИ</a></span><ul class=\"toc-item\"><li><span><a href=\"#Напишем-функцию-для-вычисления-итоговой-sMAPE\" data-toc-modified-id=\"Напишем-функцию-для-вычисления-итоговой-sMAPE-3.1\"><span class=\"toc-item-num\">3.1&nbsp;&nbsp;</span>Напишем функцию для вычисления итоговой sMAPE</a></span></li><li><span><a href=\"#Подбор-параметров-для-LinearRegression\" data-toc-modified-id=\"Подбор-параметров-для-LinearRegression-3.2\"><span class=\"toc-item-num\">3.2&nbsp;&nbsp;</span>Подбор параметров для LinearRegression</a></span></li><li><span><a href=\"#Подбор-параметров-для-DecisionTreeRegressor\" data-toc-modified-id=\"Подбор-параметров-для-DecisionTreeRegressor-3.3\"><span class=\"toc-item-num\">3.3&nbsp;&nbsp;</span>Подбор параметров для DecisionTreeRegressor</a></span></li><li><span><a href=\"#Подбор-параметров-для-RandomForestRegressor\" data-toc-modified-id=\"Подбор-параметров-для-RandomForestRegressor-3.4\"><span class=\"toc-item-num\">3.4&nbsp;&nbsp;</span>Подбор параметров для RandomForestRegressor</a></span></li><li><span><a href=\"#Обучим-лучшую-модель.\" data-toc-modified-id=\"Обучим-лучшую-модель.-3.5\"><span class=\"toc-item-num\">3.5&nbsp;&nbsp;</span>Обучим лучшую модель.</a></span></li><li><span><a href=\"#Проверка-модели-на-вменяемость\" data-toc-modified-id=\"Проверка-модели-на-вменяемость-3.6\"><span class=\"toc-item-num\">3.6&nbsp;&nbsp;</span>Проверка модели на вменяемость</a></span></li></ul></li><li><span><a href=\"#ОБЩИЙ-ВЫВОД\" data-toc-modified-id=\"ОБЩИЙ-ВЫВОД-4\"><span class=\"toc-item-num\">4&nbsp;&nbsp;</span>ОБЩИЙ ВЫВОД</a></span></li><li><span><a href=\"#Чек-лист-готовности-проекта\" data-toc-modified-id=\"Чек-лист-готовности-проекта-5\"><span class=\"toc-item-num\">5&nbsp;&nbsp;</span>Чек-лист готовности проекта</a></span></li></ul></div>"
   ]
  },
  {
   "cell_type": "markdown",
   "metadata": {},
   "source": [
    "# Восстановление золота из руды"
   ]
  },
  {
   "cell_type": "markdown",
   "metadata": {},
   "source": [
    "Подготовьте прототип модели машинного обучения для «Цифры». Компания разрабатывает решения для эффективной работы промышленных предприятий.\n",
    "\n",
    "Модель должна предсказать коэффициент восстановления золота из золотосодержащей руды. Используйте данные с параметрами добычи и очистки. \n",
    "\n",
    "Модель поможет оптимизировать производство, чтобы не запускать предприятие с убыточными характеристиками.\n",
    "\n",
    "Вам нужно:\n",
    "\n",
    "1. Подготовить данные;\n",
    "2. Провести исследовательский анализ данных;\n",
    "3. Построить и обучить модель.\n",
    "\n",
    "Чтобы выполнить проект, обращайтесь к библиотекам *pandas*, *matplotlib* и *sklearn.* Вам поможет их документация."
   ]
  },
  {
   "cell_type": "markdown",
   "metadata": {},
   "source": [
    "## ПОДГОТОВКА ДАННЫХ"
   ]
  },
  {
   "cell_type": "markdown",
   "metadata": {},
   "source": [
    "Подгружаем необходимые для работы библиотеки."
   ]
  },
  {
   "cell_type": "code",
   "execution_count": 1,
   "metadata": {
    "ExecuteTime": {
     "end_time": "2022-10-21T16:30:00.471949Z",
     "start_time": "2022-10-21T16:29:58.194095Z"
    }
   },
   "outputs": [],
   "source": [
    "import os\n",
    "\n",
    "import matplotlib.pyplot as plt\n",
    "import numpy as np\n",
    "import pandas as pd\n",
    "import seaborn as sns\n",
    "from sklearn.tree import DecisionTreeRegressor\n",
    "from sklearn.ensemble import RandomForestRegressor\n",
    "from sklearn.linear_model import LinearRegression\n",
    "from sklearn.metrics import mean_squared_error\n",
    "from sklearn.model_selection import train_test_split, cross_val_score\n",
    "from sklearn.metrics import make_scorer, mean_absolute_error\n",
    "from sklearn.dummy import DummyRegressor"
   ]
  },
  {
   "cell_type": "markdown",
   "metadata": {},
   "source": [
    "Вводим константы."
   ]
  },
  {
   "cell_type": "code",
   "execution_count": 2,
   "metadata": {
    "ExecuteTime": {
     "end_time": "2022-10-21T16:30:00.487765Z",
     "start_time": "2022-10-21T16:30:00.471949Z"
    }
   },
   "outputs": [],
   "source": [
    "RS = 12345\n",
    "METALS = ['au', 'ag', 'pb', 'sol']"
   ]
  },
  {
   "cell_type": "markdown",
   "metadata": {},
   "source": [
    "Загружаем данные для проекта."
   ]
  },
  {
   "cell_type": "code",
   "execution_count": 3,
   "metadata": {
    "ExecuteTime": {
     "end_time": "2022-10-21T16:30:01.296224Z",
     "start_time": "2022-10-21T16:30:00.490762Z"
    }
   },
   "outputs": [],
   "source": [
    "pth1 = 'gold_recovery_train_new.csv'\n",
    "pth2 = 'gold_recovery_test_new.csv'\n",
    "pth3 = 'gold_recovery_full_new.csv'\n",
    "\n",
    "pth4 = '/datasets/gold_recovery_train_new.csv'\n",
    "pth5 = '/datasets/gold_recovery_test_new.csv'\n",
    "pth6 = '/datasets/gold_recovery_full_new.csv'\n",
    "\n",
    "if os.path.exists(pth1) and os.path.exists(pth2) and os.path.exists(pth3):\n",
    "    rec_train = pd.read_csv(pth1)\n",
    "    rec_test = pd.read_csv(pth2)\n",
    "    rec_full = pd.read_csv(pth3)\n",
    "    \n",
    "elif os.path.exists(pth4) and os.path.exists(pth5) and os.path.exists(pth6):\n",
    "    rec_train = pd.read_csv(pth4)\n",
    "    rec_test = pd.read_csv(pth5)\n",
    "    rec_full = pd.read_csv(pth6)\n",
    "else:\n",
    "    print('Something is wrong')"
   ]
  },
  {
   "cell_type": "markdown",
   "metadata": {},
   "source": [
    "### Общая информация о данных."
   ]
  },
  {
   "cell_type": "markdown",
   "metadata": {},
   "source": [
    "Выведем размеры датафайлов."
   ]
  },
  {
   "cell_type": "code",
   "execution_count": 4,
   "metadata": {
    "ExecuteTime": {
     "end_time": "2022-10-21T16:30:01.311566Z",
     "start_time": "2022-10-21T16:30:01.296224Z"
    },
    "scrolled": true
   },
   "outputs": [
    {
     "name": "stdout",
     "output_type": "stream",
     "text": [
      "Размер тренировочной выборки: (14149, 87)\n",
      "Размер тестовой выборки: (5290, 53)\n",
      "Размер всех данных: (19439, 87)\n"
     ]
    }
   ],
   "source": [
    "print(\"Размер тренировочной выборки:\", rec_train.shape)\n",
    "print(\"Размер тестовой выборки:\",      rec_test .shape)\n",
    "print(\"Размер всех данных:\",           rec_full .shape)"
   ]
  },
  {
   "cell_type": "markdown",
   "metadata": {},
   "source": [
    "Датафрейм со всеми данными был \"порезан\" (расщеплен) на 72,5% тренировочной выборки и на тестовую."
   ]
  },
  {
   "cell_type": "code",
   "execution_count": 5,
   "metadata": {
    "ExecuteTime": {
     "end_time": "2022-10-21T16:30:01.358536Z",
     "start_time": "2022-10-21T16:30:01.313564Z"
    }
   },
   "outputs": [
    {
     "name": "stdout",
     "output_type": "stream",
     "text": [
      "<class 'pandas.core.frame.DataFrame'>\n",
      "RangeIndex: 19439 entries, 0 to 19438\n",
      "Data columns (total 87 columns):\n",
      " #   Column                                              Non-Null Count  Dtype  \n",
      "---  ------                                              --------------  -----  \n",
      " 0   date                                                19439 non-null  object \n",
      " 1   final.output.concentrate_ag                         19438 non-null  float64\n",
      " 2   final.output.concentrate_pb                         19438 non-null  float64\n",
      " 3   final.output.concentrate_sol                        19228 non-null  float64\n",
      " 4   final.output.concentrate_au                         19439 non-null  float64\n",
      " 5   final.output.recovery                               19439 non-null  float64\n",
      " 6   final.output.tail_ag                                19438 non-null  float64\n",
      " 7   final.output.tail_pb                                19338 non-null  float64\n",
      " 8   final.output.tail_sol                               19433 non-null  float64\n",
      " 9   final.output.tail_au                                19439 non-null  float64\n",
      " 10  primary_cleaner.input.sulfate                       19415 non-null  float64\n",
      " 11  primary_cleaner.input.depressant                    19402 non-null  float64\n",
      " 12  primary_cleaner.input.feed_size                     19439 non-null  float64\n",
      " 13  primary_cleaner.input.xanthate                      19335 non-null  float64\n",
      " 14  primary_cleaner.output.concentrate_ag               19439 non-null  float64\n",
      " 15  primary_cleaner.output.concentrate_pb               19323 non-null  float64\n",
      " 16  primary_cleaner.output.concentrate_sol              19069 non-null  float64\n",
      " 17  primary_cleaner.output.concentrate_au               19439 non-null  float64\n",
      " 18  primary_cleaner.output.tail_ag                      19435 non-null  float64\n",
      " 19  primary_cleaner.output.tail_pb                      19418 non-null  float64\n",
      " 20  primary_cleaner.output.tail_sol                     19377 non-null  float64\n",
      " 21  primary_cleaner.output.tail_au                      19439 non-null  float64\n",
      " 22  primary_cleaner.state.floatbank8_a_air              19435 non-null  float64\n",
      " 23  primary_cleaner.state.floatbank8_a_level            19438 non-null  float64\n",
      " 24  primary_cleaner.state.floatbank8_b_air              19435 non-null  float64\n",
      " 25  primary_cleaner.state.floatbank8_b_level            19438 non-null  float64\n",
      " 26  primary_cleaner.state.floatbank8_c_air              19437 non-null  float64\n",
      " 27  primary_cleaner.state.floatbank8_c_level            19438 non-null  float64\n",
      " 28  primary_cleaner.state.floatbank8_d_air              19436 non-null  float64\n",
      " 29  primary_cleaner.state.floatbank8_d_level            19438 non-null  float64\n",
      " 30  rougher.calculation.sulfate_to_au_concentrate       19437 non-null  float64\n",
      " 31  rougher.calculation.floatbank10_sulfate_to_au_feed  19437 non-null  float64\n",
      " 32  rougher.calculation.floatbank11_sulfate_to_au_feed  19437 non-null  float64\n",
      " 33  rougher.calculation.au_pb_ratio                     19439 non-null  float64\n",
      " 34  rougher.input.feed_ag                               19439 non-null  float64\n",
      " 35  rougher.input.feed_pb                               19339 non-null  float64\n",
      " 36  rougher.input.feed_rate                             19428 non-null  float64\n",
      " 37  rougher.input.feed_size                             19294 non-null  float64\n",
      " 38  rougher.input.feed_sol                              19340 non-null  float64\n",
      " 39  rougher.input.feed_au                               19439 non-null  float64\n",
      " 40  rougher.input.floatbank10_sulfate                   19405 non-null  float64\n",
      " 41  rougher.input.floatbank10_xanthate                  19431 non-null  float64\n",
      " 42  rougher.input.floatbank11_sulfate                   19395 non-null  float64\n",
      " 43  rougher.input.floatbank11_xanthate                  18986 non-null  float64\n",
      " 44  rougher.output.concentrate_ag                       19439 non-null  float64\n",
      " 45  rougher.output.concentrate_pb                       19439 non-null  float64\n",
      " 46  rougher.output.concentrate_sol                      19416 non-null  float64\n",
      " 47  rougher.output.concentrate_au                       19439 non-null  float64\n",
      " 48  rougher.output.recovery                             19439 non-null  float64\n",
      " 49  rougher.output.tail_ag                              19438 non-null  float64\n",
      " 50  rougher.output.tail_pb                              19439 non-null  float64\n",
      " 51  rougher.output.tail_sol                             19439 non-null  float64\n",
      " 52  rougher.output.tail_au                              19439 non-null  float64\n",
      " 53  rougher.state.floatbank10_a_air                     19438 non-null  float64\n",
      " 54  rougher.state.floatbank10_a_level                   19438 non-null  float64\n",
      " 55  rougher.state.floatbank10_b_air                     19438 non-null  float64\n",
      " 56  rougher.state.floatbank10_b_level                   19438 non-null  float64\n",
      " 57  rougher.state.floatbank10_c_air                     19438 non-null  float64\n",
      " 58  rougher.state.floatbank10_c_level                   19438 non-null  float64\n",
      " 59  rougher.state.floatbank10_d_air                     19439 non-null  float64\n",
      " 60  rougher.state.floatbank10_d_level                   19439 non-null  float64\n",
      " 61  rougher.state.floatbank10_e_air                     19003 non-null  float64\n",
      " 62  rougher.state.floatbank10_e_level                   19439 non-null  float64\n",
      " 63  rougher.state.floatbank10_f_air                     19439 non-null  float64\n",
      " 64  rougher.state.floatbank10_f_level                   19439 non-null  float64\n",
      " 65  secondary_cleaner.output.tail_ag                    19437 non-null  float64\n",
      " 66  secondary_cleaner.output.tail_pb                    19427 non-null  float64\n",
      " 67  secondary_cleaner.output.tail_sol                   17691 non-null  float64\n",
      " 68  secondary_cleaner.output.tail_au                    19439 non-null  float64\n",
      " 69  secondary_cleaner.state.floatbank2_a_air            19219 non-null  float64\n",
      " 70  secondary_cleaner.state.floatbank2_a_level          19438 non-null  float64\n",
      " 71  secondary_cleaner.state.floatbank2_b_air            19416 non-null  float64\n",
      " 72  secondary_cleaner.state.floatbank2_b_level          19438 non-null  float64\n",
      " 73  secondary_cleaner.state.floatbank3_a_air            19426 non-null  float64\n",
      " 74  secondary_cleaner.state.floatbank3_a_level          19438 non-null  float64\n",
      " 75  secondary_cleaner.state.floatbank3_b_air            19438 non-null  float64\n",
      " 76  secondary_cleaner.state.floatbank3_b_level          19438 non-null  float64\n",
      " 77  secondary_cleaner.state.floatbank4_a_air            19433 non-null  float64\n",
      " 78  secondary_cleaner.state.floatbank4_a_level          19438 non-null  float64\n",
      " 79  secondary_cleaner.state.floatbank4_b_air            19438 non-null  float64\n",
      " 80  secondary_cleaner.state.floatbank4_b_level          19438 non-null  float64\n",
      " 81  secondary_cleaner.state.floatbank5_a_air            19438 non-null  float64\n",
      " 82  secondary_cleaner.state.floatbank5_a_level          19438 non-null  float64\n",
      " 83  secondary_cleaner.state.floatbank5_b_air            19438 non-null  float64\n",
      " 84  secondary_cleaner.state.floatbank5_b_level          19438 non-null  float64\n",
      " 85  secondary_cleaner.state.floatbank6_a_air            19437 non-null  float64\n",
      " 86  secondary_cleaner.state.floatbank6_a_level          19438 non-null  float64\n",
      "dtypes: float64(86), object(1)\n",
      "memory usage: 12.9+ MB\n"
     ]
    }
   ],
   "source": [
    "# посмотрим столбцы и типы данных в самом большом датафрейме\n",
    "rec_full.info()"
   ]
  },
  {
   "cell_type": "code",
   "execution_count": 6,
   "metadata": {
    "ExecuteTime": {
     "end_time": "2022-10-21T16:30:01.390517Z",
     "start_time": "2022-10-21T16:30:01.361535Z"
    }
   },
   "outputs": [
    {
     "data": {
      "text/plain": [
       "date                                                     0\n",
       "final.output.concentrate_ag                              1\n",
       "final.output.concentrate_pb                              1\n",
       "final.output.concentrate_sol                           211\n",
       "final.output.concentrate_au                              0\n",
       "final.output.recovery                                    0\n",
       "final.output.tail_ag                                     1\n",
       "final.output.tail_pb                                   101\n",
       "final.output.tail_sol                                    6\n",
       "final.output.tail_au                                     0\n",
       "primary_cleaner.input.sulfate                           24\n",
       "primary_cleaner.input.depressant                        37\n",
       "primary_cleaner.input.feed_size                          0\n",
       "primary_cleaner.input.xanthate                         104\n",
       "primary_cleaner.output.concentrate_ag                    0\n",
       "primary_cleaner.output.concentrate_pb                  116\n",
       "primary_cleaner.output.concentrate_sol                 370\n",
       "primary_cleaner.output.concentrate_au                    0\n",
       "primary_cleaner.output.tail_ag                           4\n",
       "primary_cleaner.output.tail_pb                          21\n",
       "primary_cleaner.output.tail_sol                         62\n",
       "primary_cleaner.output.tail_au                           0\n",
       "primary_cleaner.state.floatbank8_a_air                   4\n",
       "primary_cleaner.state.floatbank8_a_level                 1\n",
       "primary_cleaner.state.floatbank8_b_air                   4\n",
       "primary_cleaner.state.floatbank8_b_level                 1\n",
       "primary_cleaner.state.floatbank8_c_air                   2\n",
       "primary_cleaner.state.floatbank8_c_level                 1\n",
       "primary_cleaner.state.floatbank8_d_air                   3\n",
       "primary_cleaner.state.floatbank8_d_level                 1\n",
       "rougher.calculation.sulfate_to_au_concentrate            2\n",
       "rougher.calculation.floatbank10_sulfate_to_au_feed       2\n",
       "rougher.calculation.floatbank11_sulfate_to_au_feed       2\n",
       "rougher.calculation.au_pb_ratio                          0\n",
       "rougher.input.feed_ag                                    0\n",
       "rougher.input.feed_pb                                  100\n",
       "rougher.input.feed_rate                                 11\n",
       "rougher.input.feed_size                                145\n",
       "rougher.input.feed_sol                                  99\n",
       "rougher.input.feed_au                                    0\n",
       "rougher.input.floatbank10_sulfate                       34\n",
       "rougher.input.floatbank10_xanthate                       8\n",
       "rougher.input.floatbank11_sulfate                       44\n",
       "rougher.input.floatbank11_xanthate                     453\n",
       "rougher.output.concentrate_ag                            0\n",
       "rougher.output.concentrate_pb                            0\n",
       "rougher.output.concentrate_sol                          23\n",
       "rougher.output.concentrate_au                            0\n",
       "rougher.output.recovery                                  0\n",
       "rougher.output.tail_ag                                   1\n",
       "rougher.output.tail_pb                                   0\n",
       "rougher.output.tail_sol                                  0\n",
       "rougher.output.tail_au                                   0\n",
       "rougher.state.floatbank10_a_air                          1\n",
       "rougher.state.floatbank10_a_level                        1\n",
       "rougher.state.floatbank10_b_air                          1\n",
       "rougher.state.floatbank10_b_level                        1\n",
       "rougher.state.floatbank10_c_air                          1\n",
       "rougher.state.floatbank10_c_level                        1\n",
       "rougher.state.floatbank10_d_air                          0\n",
       "rougher.state.floatbank10_d_level                        0\n",
       "rougher.state.floatbank10_e_air                        436\n",
       "rougher.state.floatbank10_e_level                        0\n",
       "rougher.state.floatbank10_f_air                          0\n",
       "rougher.state.floatbank10_f_level                        0\n",
       "secondary_cleaner.output.tail_ag                         2\n",
       "secondary_cleaner.output.tail_pb                        12\n",
       "secondary_cleaner.output.tail_sol                     1748\n",
       "secondary_cleaner.output.tail_au                         0\n",
       "secondary_cleaner.state.floatbank2_a_air               220\n",
       "secondary_cleaner.state.floatbank2_a_level               1\n",
       "secondary_cleaner.state.floatbank2_b_air                23\n",
       "secondary_cleaner.state.floatbank2_b_level               1\n",
       "secondary_cleaner.state.floatbank3_a_air                13\n",
       "secondary_cleaner.state.floatbank3_a_level               1\n",
       "secondary_cleaner.state.floatbank3_b_air                 1\n",
       "secondary_cleaner.state.floatbank3_b_level               1\n",
       "secondary_cleaner.state.floatbank4_a_air                 6\n",
       "secondary_cleaner.state.floatbank4_a_level               1\n",
       "secondary_cleaner.state.floatbank4_b_air                 1\n",
       "secondary_cleaner.state.floatbank4_b_level               1\n",
       "secondary_cleaner.state.floatbank5_a_air                 1\n",
       "secondary_cleaner.state.floatbank5_a_level               1\n",
       "secondary_cleaner.state.floatbank5_b_air                 1\n",
       "secondary_cleaner.state.floatbank5_b_level               1\n",
       "secondary_cleaner.state.floatbank6_a_air                 2\n",
       "secondary_cleaner.state.floatbank6_a_level               1\n",
       "dtype: int64"
      ]
     },
     "execution_count": 6,
     "metadata": {},
     "output_type": "execute_result"
    }
   ],
   "source": [
    "# посмотрим на количество пропусков в полном датафрейме с полными данными\n",
    "pd.options.display.max_rows = 100\n",
    "rec_full.isnull().sum()"
   ]
  },
  {
   "cell_type": "markdown",
   "metadata": {},
   "source": [
    "В полноценном датафрейме есть пропуски в данных почти в каждом из 87 параметров (столбцов). Индексация данных идет по столбцу date (указано в задании) и тип данных необходимо изменить с object на datetime.\n",
    "\n",
    "Так как именно этот датафрейм расплитовали на два других, то скорее всего пропуски и типы данных в двух других будут являться суммой от общего датафрейма. Проверим это."
   ]
  },
  {
   "cell_type": "code",
   "execution_count": 7,
   "metadata": {
    "ExecuteTime": {
     "end_time": "2022-10-21T16:30:01.438489Z",
     "start_time": "2022-10-21T16:30:01.392517Z"
    },
    "scrolled": true
   },
   "outputs": [
    {
     "name": "stdout",
     "output_type": "stream",
     "text": [
      "<class 'pandas.core.frame.DataFrame'>\n",
      "RangeIndex: 14149 entries, 0 to 14148\n",
      "Data columns (total 87 columns):\n",
      " #   Column                                              Non-Null Count  Dtype  \n",
      "---  ------                                              --------------  -----  \n",
      " 0   date                                                14149 non-null  object \n",
      " 1   final.output.concentrate_ag                         14148 non-null  float64\n",
      " 2   final.output.concentrate_pb                         14148 non-null  float64\n",
      " 3   final.output.concentrate_sol                        13938 non-null  float64\n",
      " 4   final.output.concentrate_au                         14149 non-null  float64\n",
      " 5   final.output.recovery                               14149 non-null  float64\n",
      " 6   final.output.tail_ag                                14149 non-null  float64\n",
      " 7   final.output.tail_pb                                14049 non-null  float64\n",
      " 8   final.output.tail_sol                               14144 non-null  float64\n",
      " 9   final.output.tail_au                                14149 non-null  float64\n",
      " 10  primary_cleaner.input.sulfate                       14129 non-null  float64\n",
      " 11  primary_cleaner.input.depressant                    14117 non-null  float64\n",
      " 12  primary_cleaner.input.feed_size                     14149 non-null  float64\n",
      " 13  primary_cleaner.input.xanthate                      14049 non-null  float64\n",
      " 14  primary_cleaner.output.concentrate_ag               14149 non-null  float64\n",
      " 15  primary_cleaner.output.concentrate_pb               14063 non-null  float64\n",
      " 16  primary_cleaner.output.concentrate_sol              13863 non-null  float64\n",
      " 17  primary_cleaner.output.concentrate_au               14149 non-null  float64\n",
      " 18  primary_cleaner.output.tail_ag                      14148 non-null  float64\n",
      " 19  primary_cleaner.output.tail_pb                      14134 non-null  float64\n",
      " 20  primary_cleaner.output.tail_sol                     14103 non-null  float64\n",
      " 21  primary_cleaner.output.tail_au                      14149 non-null  float64\n",
      " 22  primary_cleaner.state.floatbank8_a_air              14145 non-null  float64\n",
      " 23  primary_cleaner.state.floatbank8_a_level            14148 non-null  float64\n",
      " 24  primary_cleaner.state.floatbank8_b_air              14145 non-null  float64\n",
      " 25  primary_cleaner.state.floatbank8_b_level            14148 non-null  float64\n",
      " 26  primary_cleaner.state.floatbank8_c_air              14147 non-null  float64\n",
      " 27  primary_cleaner.state.floatbank8_c_level            14148 non-null  float64\n",
      " 28  primary_cleaner.state.floatbank8_d_air              14146 non-null  float64\n",
      " 29  primary_cleaner.state.floatbank8_d_level            14148 non-null  float64\n",
      " 30  rougher.calculation.sulfate_to_au_concentrate       14148 non-null  float64\n",
      " 31  rougher.calculation.floatbank10_sulfate_to_au_feed  14148 non-null  float64\n",
      " 32  rougher.calculation.floatbank11_sulfate_to_au_feed  14148 non-null  float64\n",
      " 33  rougher.calculation.au_pb_ratio                     14149 non-null  float64\n",
      " 34  rougher.input.feed_ag                               14149 non-null  float64\n",
      " 35  rougher.input.feed_pb                               14049 non-null  float64\n",
      " 36  rougher.input.feed_rate                             14141 non-null  float64\n",
      " 37  rougher.input.feed_size                             14005 non-null  float64\n",
      " 38  rougher.input.feed_sol                              14071 non-null  float64\n",
      " 39  rougher.input.feed_au                               14149 non-null  float64\n",
      " 40  rougher.input.floatbank10_sulfate                   14120 non-null  float64\n",
      " 41  rougher.input.floatbank10_xanthate                  14141 non-null  float64\n",
      " 42  rougher.input.floatbank11_sulfate                   14113 non-null  float64\n",
      " 43  rougher.input.floatbank11_xanthate                  13721 non-null  float64\n",
      " 44  rougher.output.concentrate_ag                       14149 non-null  float64\n",
      " 45  rougher.output.concentrate_pb                       14149 non-null  float64\n",
      " 46  rougher.output.concentrate_sol                      14127 non-null  float64\n",
      " 47  rougher.output.concentrate_au                       14149 non-null  float64\n",
      " 48  rougher.output.recovery                             14149 non-null  float64\n",
      " 49  rougher.output.tail_ag                              14148 non-null  float64\n",
      " 50  rougher.output.tail_pb                              14149 non-null  float64\n",
      " 51  rougher.output.tail_sol                             14149 non-null  float64\n",
      " 52  rougher.output.tail_au                              14149 non-null  float64\n",
      " 53  rougher.state.floatbank10_a_air                     14148 non-null  float64\n",
      " 54  rougher.state.floatbank10_a_level                   14148 non-null  float64\n",
      " 55  rougher.state.floatbank10_b_air                     14148 non-null  float64\n",
      " 56  rougher.state.floatbank10_b_level                   14148 non-null  float64\n",
      " 57  rougher.state.floatbank10_c_air                     14148 non-null  float64\n",
      " 58  rougher.state.floatbank10_c_level                   14148 non-null  float64\n",
      " 59  rougher.state.floatbank10_d_air                     14149 non-null  float64\n",
      " 60  rougher.state.floatbank10_d_level                   14149 non-null  float64\n",
      " 61  rougher.state.floatbank10_e_air                     13713 non-null  float64\n",
      " 62  rougher.state.floatbank10_e_level                   14149 non-null  float64\n",
      " 63  rougher.state.floatbank10_f_air                     14149 non-null  float64\n",
      " 64  rougher.state.floatbank10_f_level                   14149 non-null  float64\n",
      " 65  secondary_cleaner.output.tail_ag                    14147 non-null  float64\n",
      " 66  secondary_cleaner.output.tail_pb                    14139 non-null  float64\n",
      " 67  secondary_cleaner.output.tail_sol                   12544 non-null  float64\n",
      " 68  secondary_cleaner.output.tail_au                    14149 non-null  float64\n",
      " 69  secondary_cleaner.state.floatbank2_a_air            13932 non-null  float64\n",
      " 70  secondary_cleaner.state.floatbank2_a_level          14148 non-null  float64\n",
      " 71  secondary_cleaner.state.floatbank2_b_air            14128 non-null  float64\n",
      " 72  secondary_cleaner.state.floatbank2_b_level          14148 non-null  float64\n",
      " 73  secondary_cleaner.state.floatbank3_a_air            14145 non-null  float64\n",
      " 74  secondary_cleaner.state.floatbank3_a_level          14148 non-null  float64\n",
      " 75  secondary_cleaner.state.floatbank3_b_air            14148 non-null  float64\n",
      " 76  secondary_cleaner.state.floatbank3_b_level          14148 non-null  float64\n",
      " 77  secondary_cleaner.state.floatbank4_a_air            14143 non-null  float64\n",
      " 78  secondary_cleaner.state.floatbank4_a_level          14148 non-null  float64\n",
      " 79  secondary_cleaner.state.floatbank4_b_air            14148 non-null  float64\n",
      " 80  secondary_cleaner.state.floatbank4_b_level          14148 non-null  float64\n",
      " 81  secondary_cleaner.state.floatbank5_a_air            14148 non-null  float64\n",
      " 82  secondary_cleaner.state.floatbank5_a_level          14148 non-null  float64\n",
      " 83  secondary_cleaner.state.floatbank5_b_air            14148 non-null  float64\n",
      " 84  secondary_cleaner.state.floatbank5_b_level          14148 non-null  float64\n",
      " 85  secondary_cleaner.state.floatbank6_a_air            14147 non-null  float64\n",
      " 86  secondary_cleaner.state.floatbank6_a_level          14148 non-null  float64\n",
      "dtypes: float64(86), object(1)\n",
      "memory usage: 9.4+ MB\n"
     ]
    }
   ],
   "source": [
    "# посмотрим столбцы и типы данных в тренировочных данных\n",
    "rec_train.info()"
   ]
  },
  {
   "cell_type": "code",
   "execution_count": 8,
   "metadata": {
    "ExecuteTime": {
     "end_time": "2022-10-21T16:30:01.470471Z",
     "start_time": "2022-10-21T16:30:01.440490Z"
    }
   },
   "outputs": [
    {
     "data": {
      "text/plain": [
       "date                                                     0\n",
       "final.output.concentrate_ag                              1\n",
       "final.output.concentrate_pb                              1\n",
       "final.output.concentrate_sol                           211\n",
       "final.output.concentrate_au                              0\n",
       "final.output.recovery                                    0\n",
       "final.output.tail_ag                                     0\n",
       "final.output.tail_pb                                   100\n",
       "final.output.tail_sol                                    5\n",
       "final.output.tail_au                                     0\n",
       "primary_cleaner.input.sulfate                           20\n",
       "primary_cleaner.input.depressant                        32\n",
       "primary_cleaner.input.feed_size                          0\n",
       "primary_cleaner.input.xanthate                         100\n",
       "primary_cleaner.output.concentrate_ag                    0\n",
       "primary_cleaner.output.concentrate_pb                   86\n",
       "primary_cleaner.output.concentrate_sol                 286\n",
       "primary_cleaner.output.concentrate_au                    0\n",
       "primary_cleaner.output.tail_ag                           1\n",
       "primary_cleaner.output.tail_pb                          15\n",
       "primary_cleaner.output.tail_sol                         46\n",
       "primary_cleaner.output.tail_au                           0\n",
       "primary_cleaner.state.floatbank8_a_air                   4\n",
       "primary_cleaner.state.floatbank8_a_level                 1\n",
       "primary_cleaner.state.floatbank8_b_air                   4\n",
       "primary_cleaner.state.floatbank8_b_level                 1\n",
       "primary_cleaner.state.floatbank8_c_air                   2\n",
       "primary_cleaner.state.floatbank8_c_level                 1\n",
       "primary_cleaner.state.floatbank8_d_air                   3\n",
       "primary_cleaner.state.floatbank8_d_level                 1\n",
       "rougher.calculation.sulfate_to_au_concentrate            1\n",
       "rougher.calculation.floatbank10_sulfate_to_au_feed       1\n",
       "rougher.calculation.floatbank11_sulfate_to_au_feed       1\n",
       "rougher.calculation.au_pb_ratio                          0\n",
       "rougher.input.feed_ag                                    0\n",
       "rougher.input.feed_pb                                  100\n",
       "rougher.input.feed_rate                                  8\n",
       "rougher.input.feed_size                                144\n",
       "rougher.input.feed_sol                                  78\n",
       "rougher.input.feed_au                                    0\n",
       "rougher.input.floatbank10_sulfate                       29\n",
       "rougher.input.floatbank10_xanthate                       8\n",
       "rougher.input.floatbank11_sulfate                       36\n",
       "rougher.input.floatbank11_xanthate                     428\n",
       "rougher.output.concentrate_ag                            0\n",
       "rougher.output.concentrate_pb                            0\n",
       "rougher.output.concentrate_sol                          22\n",
       "rougher.output.concentrate_au                            0\n",
       "rougher.output.recovery                                  0\n",
       "rougher.output.tail_ag                                   1\n",
       "rougher.output.tail_pb                                   0\n",
       "rougher.output.tail_sol                                  0\n",
       "rougher.output.tail_au                                   0\n",
       "rougher.state.floatbank10_a_air                          1\n",
       "rougher.state.floatbank10_a_level                        1\n",
       "rougher.state.floatbank10_b_air                          1\n",
       "rougher.state.floatbank10_b_level                        1\n",
       "rougher.state.floatbank10_c_air                          1\n",
       "rougher.state.floatbank10_c_level                        1\n",
       "rougher.state.floatbank10_d_air                          0\n",
       "rougher.state.floatbank10_d_level                        0\n",
       "rougher.state.floatbank10_e_air                        436\n",
       "rougher.state.floatbank10_e_level                        0\n",
       "rougher.state.floatbank10_f_air                          0\n",
       "rougher.state.floatbank10_f_level                        0\n",
       "secondary_cleaner.output.tail_ag                         2\n",
       "secondary_cleaner.output.tail_pb                        10\n",
       "secondary_cleaner.output.tail_sol                     1605\n",
       "secondary_cleaner.output.tail_au                         0\n",
       "secondary_cleaner.state.floatbank2_a_air               217\n",
       "secondary_cleaner.state.floatbank2_a_level               1\n",
       "secondary_cleaner.state.floatbank2_b_air                21\n",
       "secondary_cleaner.state.floatbank2_b_level               1\n",
       "secondary_cleaner.state.floatbank3_a_air                 4\n",
       "secondary_cleaner.state.floatbank3_a_level               1\n",
       "secondary_cleaner.state.floatbank3_b_air                 1\n",
       "secondary_cleaner.state.floatbank3_b_level               1\n",
       "secondary_cleaner.state.floatbank4_a_air                 6\n",
       "secondary_cleaner.state.floatbank4_a_level               1\n",
       "secondary_cleaner.state.floatbank4_b_air                 1\n",
       "secondary_cleaner.state.floatbank4_b_level               1\n",
       "secondary_cleaner.state.floatbank5_a_air                 1\n",
       "secondary_cleaner.state.floatbank5_a_level               1\n",
       "secondary_cleaner.state.floatbank5_b_air                 1\n",
       "secondary_cleaner.state.floatbank5_b_level               1\n",
       "secondary_cleaner.state.floatbank6_a_air                 2\n",
       "secondary_cleaner.state.floatbank6_a_level               1\n",
       "dtype: int64"
      ]
     },
     "execution_count": 8,
     "metadata": {},
     "output_type": "execute_result"
    }
   ],
   "source": [
    "# посмотрим на количество пропусков в тренировочном датафрейме\n",
    "rec_train.isnull().sum()"
   ]
  },
  {
   "cell_type": "code",
   "execution_count": 9,
   "metadata": {
    "ExecuteTime": {
     "end_time": "2022-10-21T16:30:01.502453Z",
     "start_time": "2022-10-21T16:30:01.476469Z"
    }
   },
   "outputs": [
    {
     "name": "stdout",
     "output_type": "stream",
     "text": [
      "<class 'pandas.core.frame.DataFrame'>\n",
      "RangeIndex: 5290 entries, 0 to 5289\n",
      "Data columns (total 53 columns):\n",
      " #   Column                                      Non-Null Count  Dtype  \n",
      "---  ------                                      --------------  -----  \n",
      " 0   date                                        5290 non-null   object \n",
      " 1   primary_cleaner.input.sulfate               5286 non-null   float64\n",
      " 2   primary_cleaner.input.depressant            5285 non-null   float64\n",
      " 3   primary_cleaner.input.feed_size             5290 non-null   float64\n",
      " 4   primary_cleaner.input.xanthate              5286 non-null   float64\n",
      " 5   primary_cleaner.state.floatbank8_a_air      5290 non-null   float64\n",
      " 6   primary_cleaner.state.floatbank8_a_level    5290 non-null   float64\n",
      " 7   primary_cleaner.state.floatbank8_b_air      5290 non-null   float64\n",
      " 8   primary_cleaner.state.floatbank8_b_level    5290 non-null   float64\n",
      " 9   primary_cleaner.state.floatbank8_c_air      5290 non-null   float64\n",
      " 10  primary_cleaner.state.floatbank8_c_level    5290 non-null   float64\n",
      " 11  primary_cleaner.state.floatbank8_d_air      5290 non-null   float64\n",
      " 12  primary_cleaner.state.floatbank8_d_level    5290 non-null   float64\n",
      " 13  rougher.input.feed_ag                       5290 non-null   float64\n",
      " 14  rougher.input.feed_pb                       5290 non-null   float64\n",
      " 15  rougher.input.feed_rate                     5287 non-null   float64\n",
      " 16  rougher.input.feed_size                     5289 non-null   float64\n",
      " 17  rougher.input.feed_sol                      5269 non-null   float64\n",
      " 18  rougher.input.feed_au                       5290 non-null   float64\n",
      " 19  rougher.input.floatbank10_sulfate           5285 non-null   float64\n",
      " 20  rougher.input.floatbank10_xanthate          5290 non-null   float64\n",
      " 21  rougher.input.floatbank11_sulfate           5282 non-null   float64\n",
      " 22  rougher.input.floatbank11_xanthate          5265 non-null   float64\n",
      " 23  rougher.state.floatbank10_a_air             5290 non-null   float64\n",
      " 24  rougher.state.floatbank10_a_level           5290 non-null   float64\n",
      " 25  rougher.state.floatbank10_b_air             5290 non-null   float64\n",
      " 26  rougher.state.floatbank10_b_level           5290 non-null   float64\n",
      " 27  rougher.state.floatbank10_c_air             5290 non-null   float64\n",
      " 28  rougher.state.floatbank10_c_level           5290 non-null   float64\n",
      " 29  rougher.state.floatbank10_d_air             5290 non-null   float64\n",
      " 30  rougher.state.floatbank10_d_level           5290 non-null   float64\n",
      " 31  rougher.state.floatbank10_e_air             5290 non-null   float64\n",
      " 32  rougher.state.floatbank10_e_level           5290 non-null   float64\n",
      " 33  rougher.state.floatbank10_f_air             5290 non-null   float64\n",
      " 34  rougher.state.floatbank10_f_level           5290 non-null   float64\n",
      " 35  secondary_cleaner.state.floatbank2_a_air    5287 non-null   float64\n",
      " 36  secondary_cleaner.state.floatbank2_a_level  5290 non-null   float64\n",
      " 37  secondary_cleaner.state.floatbank2_b_air    5288 non-null   float64\n",
      " 38  secondary_cleaner.state.floatbank2_b_level  5290 non-null   float64\n",
      " 39  secondary_cleaner.state.floatbank3_a_air    5281 non-null   float64\n",
      " 40  secondary_cleaner.state.floatbank3_a_level  5290 non-null   float64\n",
      " 41  secondary_cleaner.state.floatbank3_b_air    5290 non-null   float64\n",
      " 42  secondary_cleaner.state.floatbank3_b_level  5290 non-null   float64\n",
      " 43  secondary_cleaner.state.floatbank4_a_air    5290 non-null   float64\n",
      " 44  secondary_cleaner.state.floatbank4_a_level  5290 non-null   float64\n",
      " 45  secondary_cleaner.state.floatbank4_b_air    5290 non-null   float64\n",
      " 46  secondary_cleaner.state.floatbank4_b_level  5290 non-null   float64\n",
      " 47  secondary_cleaner.state.floatbank5_a_air    5290 non-null   float64\n",
      " 48  secondary_cleaner.state.floatbank5_a_level  5290 non-null   float64\n",
      " 49  secondary_cleaner.state.floatbank5_b_air    5290 non-null   float64\n",
      " 50  secondary_cleaner.state.floatbank5_b_level  5290 non-null   float64\n",
      " 51  secondary_cleaner.state.floatbank6_a_air    5290 non-null   float64\n",
      " 52  secondary_cleaner.state.floatbank6_a_level  5290 non-null   float64\n",
      "dtypes: float64(52), object(1)\n",
      "memory usage: 2.1+ MB\n"
     ]
    }
   ],
   "source": [
    "# посмотрим столбцы и типы данных в тестовой выборке\n",
    "rec_test.info()"
   ]
  },
  {
   "cell_type": "code",
   "execution_count": 10,
   "metadata": {
    "ExecuteTime": {
     "end_time": "2022-10-21T16:30:01.534435Z",
     "start_time": "2022-10-21T16:30:01.504452Z"
    }
   },
   "outputs": [
    {
     "data": {
      "text/plain": [
       "date                                                     0\n",
       "final.output.concentrate_ag                              1\n",
       "final.output.concentrate_pb                              1\n",
       "final.output.concentrate_sol                           211\n",
       "final.output.concentrate_au                              0\n",
       "final.output.recovery                                    0\n",
       "final.output.tail_ag                                     0\n",
       "final.output.tail_pb                                   100\n",
       "final.output.tail_sol                                    5\n",
       "final.output.tail_au                                     0\n",
       "primary_cleaner.input.sulfate                           20\n",
       "primary_cleaner.input.depressant                        32\n",
       "primary_cleaner.input.feed_size                          0\n",
       "primary_cleaner.input.xanthate                         100\n",
       "primary_cleaner.output.concentrate_ag                    0\n",
       "primary_cleaner.output.concentrate_pb                   86\n",
       "primary_cleaner.output.concentrate_sol                 286\n",
       "primary_cleaner.output.concentrate_au                    0\n",
       "primary_cleaner.output.tail_ag                           1\n",
       "primary_cleaner.output.tail_pb                          15\n",
       "primary_cleaner.output.tail_sol                         46\n",
       "primary_cleaner.output.tail_au                           0\n",
       "primary_cleaner.state.floatbank8_a_air                   4\n",
       "primary_cleaner.state.floatbank8_a_level                 1\n",
       "primary_cleaner.state.floatbank8_b_air                   4\n",
       "primary_cleaner.state.floatbank8_b_level                 1\n",
       "primary_cleaner.state.floatbank8_c_air                   2\n",
       "primary_cleaner.state.floatbank8_c_level                 1\n",
       "primary_cleaner.state.floatbank8_d_air                   3\n",
       "primary_cleaner.state.floatbank8_d_level                 1\n",
       "rougher.calculation.sulfate_to_au_concentrate            1\n",
       "rougher.calculation.floatbank10_sulfate_to_au_feed       1\n",
       "rougher.calculation.floatbank11_sulfate_to_au_feed       1\n",
       "rougher.calculation.au_pb_ratio                          0\n",
       "rougher.input.feed_ag                                    0\n",
       "rougher.input.feed_pb                                  100\n",
       "rougher.input.feed_rate                                  8\n",
       "rougher.input.feed_size                                144\n",
       "rougher.input.feed_sol                                  78\n",
       "rougher.input.feed_au                                    0\n",
       "rougher.input.floatbank10_sulfate                       29\n",
       "rougher.input.floatbank10_xanthate                       8\n",
       "rougher.input.floatbank11_sulfate                       36\n",
       "rougher.input.floatbank11_xanthate                     428\n",
       "rougher.output.concentrate_ag                            0\n",
       "rougher.output.concentrate_pb                            0\n",
       "rougher.output.concentrate_sol                          22\n",
       "rougher.output.concentrate_au                            0\n",
       "rougher.output.recovery                                  0\n",
       "rougher.output.tail_ag                                   1\n",
       "rougher.output.tail_pb                                   0\n",
       "rougher.output.tail_sol                                  0\n",
       "rougher.output.tail_au                                   0\n",
       "rougher.state.floatbank10_a_air                          1\n",
       "rougher.state.floatbank10_a_level                        1\n",
       "rougher.state.floatbank10_b_air                          1\n",
       "rougher.state.floatbank10_b_level                        1\n",
       "rougher.state.floatbank10_c_air                          1\n",
       "rougher.state.floatbank10_c_level                        1\n",
       "rougher.state.floatbank10_d_air                          0\n",
       "rougher.state.floatbank10_d_level                        0\n",
       "rougher.state.floatbank10_e_air                        436\n",
       "rougher.state.floatbank10_e_level                        0\n",
       "rougher.state.floatbank10_f_air                          0\n",
       "rougher.state.floatbank10_f_level                        0\n",
       "secondary_cleaner.output.tail_ag                         2\n",
       "secondary_cleaner.output.tail_pb                        10\n",
       "secondary_cleaner.output.tail_sol                     1605\n",
       "secondary_cleaner.output.tail_au                         0\n",
       "secondary_cleaner.state.floatbank2_a_air               217\n",
       "secondary_cleaner.state.floatbank2_a_level               1\n",
       "secondary_cleaner.state.floatbank2_b_air                21\n",
       "secondary_cleaner.state.floatbank2_b_level               1\n",
       "secondary_cleaner.state.floatbank3_a_air                 4\n",
       "secondary_cleaner.state.floatbank3_a_level               1\n",
       "secondary_cleaner.state.floatbank3_b_air                 1\n",
       "secondary_cleaner.state.floatbank3_b_level               1\n",
       "secondary_cleaner.state.floatbank4_a_air                 6\n",
       "secondary_cleaner.state.floatbank4_a_level               1\n",
       "secondary_cleaner.state.floatbank4_b_air                 1\n",
       "secondary_cleaner.state.floatbank4_b_level               1\n",
       "secondary_cleaner.state.floatbank5_a_air                 1\n",
       "secondary_cleaner.state.floatbank5_a_level               1\n",
       "secondary_cleaner.state.floatbank5_b_air                 1\n",
       "secondary_cleaner.state.floatbank5_b_level               1\n",
       "secondary_cleaner.state.floatbank6_a_air                 2\n",
       "secondary_cleaner.state.floatbank6_a_level               1\n",
       "dtype: int64"
      ]
     },
     "execution_count": 10,
     "metadata": {},
     "output_type": "execute_result"
    }
   ],
   "source": [
    "# посмотрим на количество пропусков в тренировочном датафрейме\n",
    "rec_train.isnull().sum()"
   ]
  },
  {
   "cell_type": "markdown",
   "metadata": {},
   "source": [
    "Результат проверки двух других датафреймов показал, что пропуски есть почти в каждом столбце. Необходимо поменять тип данных столбца date. Названия столбцов с нижним регистром. Есть параметры, написанные через точку, но про это прописано в задании, чтобы не запутаться в данных снятых с технологического процесса."
   ]
  },
  {
   "cell_type": "markdown",
   "metadata": {},
   "source": [
    "### Проверка эффективности обогащения"
   ]
  },
  {
   "cell_type": "markdown",
   "metadata": {},
   "source": [
    "Яндекс Практикум заболиво предоставляет формулу для расчетов эффективности обогащения.\n",
    "\n",
    "**Расчёт эффективности**\n",
    "\n",
    "Вам нужно смоделировать процесс восстановления золота из золотосодержащей руды.\n",
    "\n",
    "Эффективность обогащения рассчитывается по формуле:\n",
    "\n",
    "                               Recovery = С🞩(F-T)/F🞩(C-T) 🞩100%\n",
    "где:\n",
    "\n",
    "C — доля золота в концентрате после флотации/очистки;\n",
    "\n",
    "F — доля золота в сырье/концентрате до флотации/очистки;\n",
    "\n",
    "T — доля золота в отвальных хвостах после флотации/очистки.\n",
    "\n",
    "Для прогноза коэффициента нужно найти долю золота в концентратах и хвостах. Причём важен не только финальный продукт, но и черновой концентрат."
   ]
  },
  {
   "cell_type": "markdown",
   "metadata": {},
   "source": [
    "*Я упорно пыталась вставить картинку в блокнот. Загружала ее на свой яндекс-диск, чтобы поставить на нее ссылку, но, увы, тщетно. Поэтому будет строковая формула.*"
   ]
  },
  {
   "cell_type": "markdown",
   "metadata": {},
   "source": [
    "Повнимательнее расмотрев названия колонок, можно определить, что\n",
    "\n",
    "**C** это rougher.output.concentrate_au\n",
    "\n",
    "**F** это rougher.input.feed_au\n",
    "\n",
    "**T** это rougher.output.tail_au\n",
    "\n",
    "Рассчитанное значение эффективности находится rougher.output.recovery"
   ]
  },
  {
   "cell_type": "code",
   "execution_count": 11,
   "metadata": {
    "ExecuteTime": {
     "end_time": "2022-10-21T16:30:01.551424Z",
     "start_time": "2022-10-21T16:30:01.539440Z"
    }
   },
   "outputs": [],
   "source": [
    "c = rec_train['rougher.output.concentrate_au']\n",
    "f = rec_train['rougher.input.feed_au']\n",
    "t = rec_train['rougher.output.tail_au']\n",
    "recovery = ((c*(f-t))/(f*(c-t))) * 100"
   ]
  },
  {
   "cell_type": "code",
   "execution_count": 12,
   "metadata": {
    "ExecuteTime": {
     "end_time": "2022-10-21T16:30:01.566416Z",
     "start_time": "2022-10-21T16:30:01.553424Z"
    }
   },
   "outputs": [
    {
     "name": "stdout",
     "output_type": "stream",
     "text": [
      "MAE: 9.73512347450521e-15\n"
     ]
    }
   ],
   "source": [
    "mae = mean_absolute_error(rec_train['rougher.output.recovery'], recovery)\n",
    "print('MAE:', mae)"
   ]
  },
  {
   "cell_type": "markdown",
   "metadata": {},
   "source": [
    "Если не сразу заметить -15 степень экспоненты, то можно сильно испугаться. \n",
    "\n",
    "**Mean Absolute Error.**\n",
    "Средняя абсолютная ошибка (MAE) – это усреднённая сумма модулей разницы между реальным и предсказанным значениями. \n",
    "\n",
    "Онополучилось ооооочень маленьким, а это значит, что рассчитаная эффективность на производстве практически такая, как и была посчитана по формуле. Отклонений не выявлено. Инженеры-разработчики \"Цифра\" выполнили свою работу безупречно. "
   ]
  },
  {
   "cell_type": "markdown",
   "metadata": {},
   "source": [
    "### Недоступные признаки."
   ]
  },
  {
   "cell_type": "markdown",
   "metadata": {},
   "source": [
    "Далее Практикум просит проанализировать признаки, недоступные в тестовой выборке. Для этого создадим функцию, которая сравнит названия колонок двух датафреймов."
   ]
  },
  {
   "cell_type": "code",
   "execution_count": 13,
   "metadata": {
    "ExecuteTime": {
     "end_time": "2022-10-21T16:30:01.582407Z",
     "start_time": "2022-10-21T16:30:01.568415Z"
    }
   },
   "outputs": [],
   "source": [
    "def extra_columns(df_1, df_2):\n",
    "    col_test = set(df_1.columns)\n",
    "    col_train = set(df_2.columns)\n",
    "    \n",
    "    result = list(col_train.difference(col_test))\n",
    "    result.sort()\n",
    "\n",
    "    return list(result)"
   ]
  },
  {
   "cell_type": "code",
   "execution_count": 14,
   "metadata": {
    "ExecuteTime": {
     "end_time": "2022-10-21T16:30:01.598397Z",
     "start_time": "2022-10-21T16:30:01.584406Z"
    }
   },
   "outputs": [],
   "source": [
    "# сравним два датафрейма\n",
    "ext_columns =  extra_columns(rec_test, rec_train)"
   ]
  },
  {
   "cell_type": "code",
   "execution_count": 15,
   "metadata": {
    "ExecuteTime": {
     "end_time": "2022-10-21T16:30:01.613388Z",
     "start_time": "2022-10-21T16:30:01.602397Z"
    },
    "collapsed": true,
    "jupyter": {
     "outputs_hidden": true
    }
   },
   "outputs": [
    {
     "data": {
      "text/plain": [
       "['final.output.concentrate_ag',\n",
       " 'final.output.concentrate_au',\n",
       " 'final.output.concentrate_pb',\n",
       " 'final.output.concentrate_sol',\n",
       " 'final.output.recovery',\n",
       " 'final.output.tail_ag',\n",
       " 'final.output.tail_au',\n",
       " 'final.output.tail_pb',\n",
       " 'final.output.tail_sol',\n",
       " 'primary_cleaner.output.concentrate_ag',\n",
       " 'primary_cleaner.output.concentrate_au',\n",
       " 'primary_cleaner.output.concentrate_pb',\n",
       " 'primary_cleaner.output.concentrate_sol',\n",
       " 'primary_cleaner.output.tail_ag',\n",
       " 'primary_cleaner.output.tail_au',\n",
       " 'primary_cleaner.output.tail_pb',\n",
       " 'primary_cleaner.output.tail_sol',\n",
       " 'rougher.calculation.au_pb_ratio',\n",
       " 'rougher.calculation.floatbank10_sulfate_to_au_feed',\n",
       " 'rougher.calculation.floatbank11_sulfate_to_au_feed',\n",
       " 'rougher.calculation.sulfate_to_au_concentrate',\n",
       " 'rougher.output.concentrate_ag',\n",
       " 'rougher.output.concentrate_au',\n",
       " 'rougher.output.concentrate_pb',\n",
       " 'rougher.output.concentrate_sol',\n",
       " 'rougher.output.recovery',\n",
       " 'rougher.output.tail_ag',\n",
       " 'rougher.output.tail_au',\n",
       " 'rougher.output.tail_pb',\n",
       " 'rougher.output.tail_sol',\n",
       " 'secondary_cleaner.output.tail_ag',\n",
       " 'secondary_cleaner.output.tail_au',\n",
       " 'secondary_cleaner.output.tail_pb',\n",
       " 'secondary_cleaner.output.tail_sol']"
      ]
     },
     "execution_count": 15,
     "metadata": {},
     "output_type": "execute_result"
    }
   ],
   "source": [
    "# недостающие колонки в тестовой выборке\n",
    "ext_columns"
   ]
  },
  {
   "cell_type": "code",
   "execution_count": 16,
   "metadata": {
    "ExecuteTime": {
     "end_time": "2022-10-21T16:30:01.628380Z",
     "start_time": "2022-10-21T16:30:01.616389Z"
    },
    "scrolled": true
   },
   "outputs": [
    {
     "name": "stdout",
     "output_type": "stream",
     "text": [
      "\n",
      "Количество лишних признаков в тренировочной: 34\n"
     ]
    }
   ],
   "source": [
    "print('\\nКоличество лишних признаков в тренировочной:', len(ext_columns))"
   ]
  },
  {
   "cell_type": "markdown",
   "metadata": {},
   "source": [
    "### Анализ недостающих признаков"
   ]
  },
  {
   "cell_type": "markdown",
   "metadata": {},
   "source": [
    "По плану проекта необходимо проанализировать, что за признаки удалили из тестового датафрейма.\n",
    "\n",
    "Для этого создадим функцию и категоризируем каждый признак."
   ]
  },
  {
   "cell_type": "code",
   "execution_count": 17,
   "metadata": {
    "ExecuteTime": {
     "end_time": "2022-10-21T16:30:01.644370Z",
     "start_time": "2022-10-21T16:30:01.630379Z"
    }
   },
   "outputs": [],
   "source": [
    "def technological_stages(row):\n",
    "    try:\n",
    "        if 'final' in row:\n",
    "            return 'финальные характеристики'\n",
    "        elif 'primary_cleaner' in row:\n",
    "            return 'первичная очистка'\n",
    "        elif 'secondary_cleaner' in row:\n",
    "            return 'вторичная очистка'\n",
    "        elif 'rougher.calculation' in row:\n",
    "            return 'флотация. расчетные характеристики'\n",
    "        elif 'rougher.output' in row:\n",
    "            return 'флотация.параметры продукта'\n",
    "    except:\n",
    "        return 'нет категории'"
   ]
  },
  {
   "cell_type": "code",
   "execution_count": 18,
   "metadata": {
    "ExecuteTime": {
     "end_time": "2022-10-21T16:30:01.660362Z",
     "start_time": "2022-10-21T16:30:01.647370Z"
    }
   },
   "outputs": [],
   "source": [
    "# для того чтобы применять метод apply создадим новый сериас\n",
    "ext_columns_series = pd.Series(ext_columns)\n",
    "tech_stages = ext_columns_series.apply(technological_stages)"
   ]
  },
  {
   "cell_type": "code",
   "execution_count": 19,
   "metadata": {
    "ExecuteTime": {
     "end_time": "2022-10-21T16:30:01.692344Z",
     "start_time": "2022-10-21T16:30:01.666358Z"
    }
   },
   "outputs": [
    {
     "data": {
      "text/html": [
       "<div>\n",
       "<style scoped>\n",
       "    .dataframe tbody tr th:only-of-type {\n",
       "        vertical-align: middle;\n",
       "    }\n",
       "\n",
       "    .dataframe tbody tr th {\n",
       "        vertical-align: top;\n",
       "    }\n",
       "\n",
       "    .dataframe thead th {\n",
       "        text-align: right;\n",
       "    }\n",
       "</style>\n",
       "<table border=\"1\" class=\"dataframe\">\n",
       "  <thead>\n",
       "    <tr style=\"text-align: right;\">\n",
       "      <th></th>\n",
       "      <th>0</th>\n",
       "      <th>1</th>\n",
       "    </tr>\n",
       "  </thead>\n",
       "  <tbody>\n",
       "    <tr>\n",
       "      <th>0</th>\n",
       "      <td>final.output.concentrate_ag</td>\n",
       "      <td>финальные характеристики</td>\n",
       "    </tr>\n",
       "    <tr>\n",
       "      <th>1</th>\n",
       "      <td>final.output.concentrate_au</td>\n",
       "      <td>финальные характеристики</td>\n",
       "    </tr>\n",
       "    <tr>\n",
       "      <th>2</th>\n",
       "      <td>final.output.concentrate_pb</td>\n",
       "      <td>финальные характеристики</td>\n",
       "    </tr>\n",
       "    <tr>\n",
       "      <th>3</th>\n",
       "      <td>final.output.concentrate_sol</td>\n",
       "      <td>финальные характеристики</td>\n",
       "    </tr>\n",
       "    <tr>\n",
       "      <th>4</th>\n",
       "      <td>final.output.recovery</td>\n",
       "      <td>финальные характеристики</td>\n",
       "    </tr>\n",
       "    <tr>\n",
       "      <th>5</th>\n",
       "      <td>final.output.tail_ag</td>\n",
       "      <td>финальные характеристики</td>\n",
       "    </tr>\n",
       "    <tr>\n",
       "      <th>6</th>\n",
       "      <td>final.output.tail_au</td>\n",
       "      <td>финальные характеристики</td>\n",
       "    </tr>\n",
       "    <tr>\n",
       "      <th>7</th>\n",
       "      <td>final.output.tail_pb</td>\n",
       "      <td>финальные характеристики</td>\n",
       "    </tr>\n",
       "    <tr>\n",
       "      <th>8</th>\n",
       "      <td>final.output.tail_sol</td>\n",
       "      <td>финальные характеристики</td>\n",
       "    </tr>\n",
       "    <tr>\n",
       "      <th>9</th>\n",
       "      <td>primary_cleaner.output.concentrate_ag</td>\n",
       "      <td>первичная очистка</td>\n",
       "    </tr>\n",
       "    <tr>\n",
       "      <th>10</th>\n",
       "      <td>primary_cleaner.output.concentrate_au</td>\n",
       "      <td>первичная очистка</td>\n",
       "    </tr>\n",
       "    <tr>\n",
       "      <th>11</th>\n",
       "      <td>primary_cleaner.output.concentrate_pb</td>\n",
       "      <td>первичная очистка</td>\n",
       "    </tr>\n",
       "    <tr>\n",
       "      <th>12</th>\n",
       "      <td>primary_cleaner.output.concentrate_sol</td>\n",
       "      <td>первичная очистка</td>\n",
       "    </tr>\n",
       "    <tr>\n",
       "      <th>13</th>\n",
       "      <td>primary_cleaner.output.tail_ag</td>\n",
       "      <td>первичная очистка</td>\n",
       "    </tr>\n",
       "    <tr>\n",
       "      <th>14</th>\n",
       "      <td>primary_cleaner.output.tail_au</td>\n",
       "      <td>первичная очистка</td>\n",
       "    </tr>\n",
       "    <tr>\n",
       "      <th>15</th>\n",
       "      <td>primary_cleaner.output.tail_pb</td>\n",
       "      <td>первичная очистка</td>\n",
       "    </tr>\n",
       "    <tr>\n",
       "      <th>16</th>\n",
       "      <td>primary_cleaner.output.tail_sol</td>\n",
       "      <td>первичная очистка</td>\n",
       "    </tr>\n",
       "    <tr>\n",
       "      <th>17</th>\n",
       "      <td>rougher.calculation.au_pb_ratio</td>\n",
       "      <td>флотация. расчетные характеристики</td>\n",
       "    </tr>\n",
       "    <tr>\n",
       "      <th>18</th>\n",
       "      <td>rougher.calculation.floatbank10_sulfate_to_au_...</td>\n",
       "      <td>флотация. расчетные характеристики</td>\n",
       "    </tr>\n",
       "    <tr>\n",
       "      <th>19</th>\n",
       "      <td>rougher.calculation.floatbank11_sulfate_to_au_...</td>\n",
       "      <td>флотация. расчетные характеристики</td>\n",
       "    </tr>\n",
       "    <tr>\n",
       "      <th>20</th>\n",
       "      <td>rougher.calculation.sulfate_to_au_concentrate</td>\n",
       "      <td>флотация. расчетные характеристики</td>\n",
       "    </tr>\n",
       "    <tr>\n",
       "      <th>21</th>\n",
       "      <td>rougher.output.concentrate_ag</td>\n",
       "      <td>флотация.параметры продукта</td>\n",
       "    </tr>\n",
       "    <tr>\n",
       "      <th>22</th>\n",
       "      <td>rougher.output.concentrate_au</td>\n",
       "      <td>флотация.параметры продукта</td>\n",
       "    </tr>\n",
       "    <tr>\n",
       "      <th>23</th>\n",
       "      <td>rougher.output.concentrate_pb</td>\n",
       "      <td>флотация.параметры продукта</td>\n",
       "    </tr>\n",
       "    <tr>\n",
       "      <th>24</th>\n",
       "      <td>rougher.output.concentrate_sol</td>\n",
       "      <td>флотация.параметры продукта</td>\n",
       "    </tr>\n",
       "    <tr>\n",
       "      <th>25</th>\n",
       "      <td>rougher.output.recovery</td>\n",
       "      <td>флотация.параметры продукта</td>\n",
       "    </tr>\n",
       "    <tr>\n",
       "      <th>26</th>\n",
       "      <td>rougher.output.tail_ag</td>\n",
       "      <td>флотация.параметры продукта</td>\n",
       "    </tr>\n",
       "    <tr>\n",
       "      <th>27</th>\n",
       "      <td>rougher.output.tail_au</td>\n",
       "      <td>флотация.параметры продукта</td>\n",
       "    </tr>\n",
       "    <tr>\n",
       "      <th>28</th>\n",
       "      <td>rougher.output.tail_pb</td>\n",
       "      <td>флотация.параметры продукта</td>\n",
       "    </tr>\n",
       "    <tr>\n",
       "      <th>29</th>\n",
       "      <td>rougher.output.tail_sol</td>\n",
       "      <td>флотация.параметры продукта</td>\n",
       "    </tr>\n",
       "    <tr>\n",
       "      <th>30</th>\n",
       "      <td>secondary_cleaner.output.tail_ag</td>\n",
       "      <td>вторичная очистка</td>\n",
       "    </tr>\n",
       "    <tr>\n",
       "      <th>31</th>\n",
       "      <td>secondary_cleaner.output.tail_au</td>\n",
       "      <td>вторичная очистка</td>\n",
       "    </tr>\n",
       "    <tr>\n",
       "      <th>32</th>\n",
       "      <td>secondary_cleaner.output.tail_pb</td>\n",
       "      <td>вторичная очистка</td>\n",
       "    </tr>\n",
       "    <tr>\n",
       "      <th>33</th>\n",
       "      <td>secondary_cleaner.output.tail_sol</td>\n",
       "      <td>вторичная очистка</td>\n",
       "    </tr>\n",
       "  </tbody>\n",
       "</table>\n",
       "</div>"
      ],
      "text/plain": [
       "                                                    0  \\\n",
       "0                         final.output.concentrate_ag   \n",
       "1                         final.output.concentrate_au   \n",
       "2                         final.output.concentrate_pb   \n",
       "3                        final.output.concentrate_sol   \n",
       "4                               final.output.recovery   \n",
       "5                                final.output.tail_ag   \n",
       "6                                final.output.tail_au   \n",
       "7                                final.output.tail_pb   \n",
       "8                               final.output.tail_sol   \n",
       "9               primary_cleaner.output.concentrate_ag   \n",
       "10              primary_cleaner.output.concentrate_au   \n",
       "11              primary_cleaner.output.concentrate_pb   \n",
       "12             primary_cleaner.output.concentrate_sol   \n",
       "13                     primary_cleaner.output.tail_ag   \n",
       "14                     primary_cleaner.output.tail_au   \n",
       "15                     primary_cleaner.output.tail_pb   \n",
       "16                    primary_cleaner.output.tail_sol   \n",
       "17                    rougher.calculation.au_pb_ratio   \n",
       "18  rougher.calculation.floatbank10_sulfate_to_au_...   \n",
       "19  rougher.calculation.floatbank11_sulfate_to_au_...   \n",
       "20      rougher.calculation.sulfate_to_au_concentrate   \n",
       "21                      rougher.output.concentrate_ag   \n",
       "22                      rougher.output.concentrate_au   \n",
       "23                      rougher.output.concentrate_pb   \n",
       "24                     rougher.output.concentrate_sol   \n",
       "25                            rougher.output.recovery   \n",
       "26                             rougher.output.tail_ag   \n",
       "27                             rougher.output.tail_au   \n",
       "28                             rougher.output.tail_pb   \n",
       "29                            rougher.output.tail_sol   \n",
       "30                   secondary_cleaner.output.tail_ag   \n",
       "31                   secondary_cleaner.output.tail_au   \n",
       "32                   secondary_cleaner.output.tail_pb   \n",
       "33                  secondary_cleaner.output.tail_sol   \n",
       "\n",
       "                                     1  \n",
       "0             финальные характеристики  \n",
       "1             финальные характеристики  \n",
       "2             финальные характеристики  \n",
       "3             финальные характеристики  \n",
       "4             финальные характеристики  \n",
       "5             финальные характеристики  \n",
       "6             финальные характеристики  \n",
       "7             финальные характеристики  \n",
       "8             финальные характеристики  \n",
       "9                    первичная очистка  \n",
       "10                   первичная очистка  \n",
       "11                   первичная очистка  \n",
       "12                   первичная очистка  \n",
       "13                   первичная очистка  \n",
       "14                   первичная очистка  \n",
       "15                   первичная очистка  \n",
       "16                   первичная очистка  \n",
       "17  флотация. расчетные характеристики  \n",
       "18  флотация. расчетные характеристики  \n",
       "19  флотация. расчетные характеристики  \n",
       "20  флотация. расчетные характеристики  \n",
       "21         флотация.параметры продукта  \n",
       "22         флотация.параметры продукта  \n",
       "23         флотация.параметры продукта  \n",
       "24         флотация.параметры продукта  \n",
       "25         флотация.параметры продукта  \n",
       "26         флотация.параметры продукта  \n",
       "27         флотация.параметры продукта  \n",
       "28         флотация.параметры продукта  \n",
       "29         флотация.параметры продукта  \n",
       "30                   вторичная очистка  \n",
       "31                   вторичная очистка  \n",
       "32                   вторичная очистка  \n",
       "33                   вторичная очистка  "
      ]
     },
     "execution_count": 19,
     "metadata": {},
     "output_type": "execute_result"
    }
   ],
   "source": [
    "# Соединяем два сериаса\n",
    "process_stages_df = pd.concat([ext_columns_series, tech_stages], axis=1)\n",
    "process_stages_df.head(34)"
   ]
  },
  {
   "cell_type": "markdown",
   "metadata": {},
   "source": [
    "Получается, что отсутствуют параметры каждого из этапов процесса, таккже и расчетные характеристики. \n",
    "\n",
    "Если я правильно понимаю, то для модели эти данные излишне. Потому что она будет иметь дело только с изначально входящими в технологический процесс параметрами, а промежуточные могут ее \"запутать\" или переучить.\n",
    "\n",
    "Скорее всего поэтому их и следует удалить из обучающей выборки, но я сделаю это чуть позже, чтобы слкдовать намеченному плану создателями данного проекта."
   ]
  },
  {
   "cell_type": "markdown",
   "metadata": {},
   "source": [
    "### Изменение типа данных."
   ]
  },
  {
   "cell_type": "markdown",
   "metadata": {},
   "source": [
    "Изменим тип данных во всех трех датафреймах, потому что основной датафрейм хоть нам вроде как и не нужен, но чтобы была подходящая по типу индексация в каждом датафрейме изменим все. \n",
    "\n",
    "(сначала я сделала только в двух, но потом вылезла ошибка на этапе заполнения целевых признаков из full и я добавила основной датафрейм)"
   ]
  },
  {
   "cell_type": "code",
   "execution_count": 20,
   "metadata": {
    "ExecuteTime": {
     "end_time": "2022-10-21T16:30:01.756306Z",
     "start_time": "2022-10-21T16:30:01.695342Z"
    }
   },
   "outputs": [],
   "source": [
    "# в основном датафрейме\n",
    "rec_full['date'] = pd.to_datetime(rec_full['date'], format='%Y-%m-%d %H:%M:%S')\n",
    "\n",
    "# в обучающем датафрейме\n",
    "rec_train['date'] = pd.to_datetime(rec_train['date'], format='%Y-%m-%d %H:%M:%S')\n",
    "\n",
    "# в тестовом датафрейме\n",
    "rec_test['date'] = pd.to_datetime(rec_test['date'], format='%Y-%m-%d %H:%M:%S')"
   ]
  },
  {
   "cell_type": "markdown",
   "metadata": {},
   "source": [
    "**dtypes: datetime64** - изменить тип данных получилось 👍"
   ]
  },
  {
   "cell_type": "markdown",
   "metadata": {},
   "source": [
    "### Проверка на наличие явных дубликатов."
   ]
  },
  {
   "cell_type": "code",
   "execution_count": 21,
   "metadata": {
    "ExecuteTime": {
     "end_time": "2022-10-21T16:30:02.169550Z",
     "start_time": "2022-10-21T16:30:01.790286Z"
    }
   },
   "outputs": [
    {
     "name": "stdout",
     "output_type": "stream",
     "text": [
      "Явные дyбликаты в тренировочном датафрейме: 0\n",
      "\n",
      "Явные дyбликаты в тестовом датафрейме: 0\n",
      "\n",
      "Явные дyбликаты в полном датафрейме: 0\n"
     ]
    }
   ],
   "source": [
    "print('Явные дyбликаты в тренировочном датафрейме:', rec_train.duplicated().sum())\n",
    "print()\n",
    "print('Явные дyбликаты в тестовом датафрейме:', rec_test.duplicated().sum())\n",
    "print()\n",
    "print('Явные дyбликаты в полном датафрейме:', rec_full.duplicated().sum())"
   ]
  },
  {
   "cell_type": "markdown",
   "metadata": {},
   "source": [
    "**Дубликатов нет.**\n",
    "\n",
    "Я думаю, что так как тут совпадают даты, то проверку на наличие неявных дубликатов проводить нет смысла."
   ]
  },
  {
   "cell_type": "markdown",
   "metadata": {},
   "source": [
    "### Заполнение пропусков."
   ]
  },
  {
   "cell_type": "code",
   "execution_count": 22,
   "metadata": {
    "ExecuteTime": {
     "end_time": "2022-10-21T16:30:02.201531Z",
     "start_time": "2022-10-21T16:30:02.173548Z"
    }
   },
   "outputs": [
    {
     "data": {
      "text/html": [
       "<div>\n",
       "<style scoped>\n",
       "    .dataframe tbody tr th:only-of-type {\n",
       "        vertical-align: middle;\n",
       "    }\n",
       "\n",
       "    .dataframe tbody tr th {\n",
       "        vertical-align: top;\n",
       "    }\n",
       "\n",
       "    .dataframe thead th {\n",
       "        text-align: right;\n",
       "    }\n",
       "</style>\n",
       "<table border=\"1\" class=\"dataframe\">\n",
       "  <thead>\n",
       "    <tr style=\"text-align: right;\">\n",
       "      <th></th>\n",
       "      <th>date</th>\n",
       "      <th>primary_cleaner.input.sulfate</th>\n",
       "      <th>primary_cleaner.input.depressant</th>\n",
       "      <th>primary_cleaner.input.feed_size</th>\n",
       "      <th>primary_cleaner.input.xanthate</th>\n",
       "      <th>primary_cleaner.state.floatbank8_a_air</th>\n",
       "      <th>primary_cleaner.state.floatbank8_a_level</th>\n",
       "      <th>primary_cleaner.state.floatbank8_b_air</th>\n",
       "      <th>primary_cleaner.state.floatbank8_b_level</th>\n",
       "      <th>primary_cleaner.state.floatbank8_c_air</th>\n",
       "      <th>...</th>\n",
       "      <th>secondary_cleaner.state.floatbank4_a_air</th>\n",
       "      <th>secondary_cleaner.state.floatbank4_a_level</th>\n",
       "      <th>secondary_cleaner.state.floatbank4_b_air</th>\n",
       "      <th>secondary_cleaner.state.floatbank4_b_level</th>\n",
       "      <th>secondary_cleaner.state.floatbank5_a_air</th>\n",
       "      <th>secondary_cleaner.state.floatbank5_a_level</th>\n",
       "      <th>secondary_cleaner.state.floatbank5_b_air</th>\n",
       "      <th>secondary_cleaner.state.floatbank5_b_level</th>\n",
       "      <th>secondary_cleaner.state.floatbank6_a_air</th>\n",
       "      <th>secondary_cleaner.state.floatbank6_a_level</th>\n",
       "    </tr>\n",
       "  </thead>\n",
       "  <tbody>\n",
       "    <tr>\n",
       "      <th>29</th>\n",
       "      <td>2016-09-02 05:59:59</td>\n",
       "      <td>126.329123</td>\n",
       "      <td>8.003034</td>\n",
       "      <td>7.1600</td>\n",
       "      <td>0.699695</td>\n",
       "      <td>1400.760536</td>\n",
       "      <td>-500.200817</td>\n",
       "      <td>1399.437375</td>\n",
       "      <td>-500.679938</td>\n",
       "      <td>1399.429209</td>\n",
       "      <td>...</td>\n",
       "      <td>11.960962</td>\n",
       "      <td>-500.130469</td>\n",
       "      <td>7.924387</td>\n",
       "      <td>-500.362897</td>\n",
       "      <td>7.849120</td>\n",
       "      <td>-500.357611</td>\n",
       "      <td>4.983730</td>\n",
       "      <td>-500.111778</td>\n",
       "      <td>9.935444</td>\n",
       "      <td>-500.440997</td>\n",
       "    </tr>\n",
       "    <tr>\n",
       "      <th>30</th>\n",
       "      <td>2016-09-02 06:59:59</td>\n",
       "      <td>NaN</td>\n",
       "      <td>NaN</td>\n",
       "      <td>7.1600</td>\n",
       "      <td>NaN</td>\n",
       "      <td>412.629243</td>\n",
       "      <td>-795.316337</td>\n",
       "      <td>413.703253</td>\n",
       "      <td>-787.396567</td>\n",
       "      <td>441.604260</td>\n",
       "      <td>...</td>\n",
       "      <td>6.576244</td>\n",
       "      <td>-616.550019</td>\n",
       "      <td>4.625908</td>\n",
       "      <td>-678.347958</td>\n",
       "      <td>4.451592</td>\n",
       "      <td>-795.337422</td>\n",
       "      <td>3.544708</td>\n",
       "      <td>-800.024373</td>\n",
       "      <td>5.914889</td>\n",
       "      <td>-799.501783</td>\n",
       "    </tr>\n",
       "    <tr>\n",
       "      <th>31</th>\n",
       "      <td>2016-09-02 10:59:59</td>\n",
       "      <td>64.558863</td>\n",
       "      <td>0.061864</td>\n",
       "      <td>7.1095</td>\n",
       "      <td>0.520084</td>\n",
       "      <td>1433.954958</td>\n",
       "      <td>-499.688476</td>\n",
       "      <td>1553.150053</td>\n",
       "      <td>-500.878552</td>\n",
       "      <td>1517.894908</td>\n",
       "      <td>...</td>\n",
       "      <td>11.993753</td>\n",
       "      <td>-499.148736</td>\n",
       "      <td>8.129055</td>\n",
       "      <td>-500.125308</td>\n",
       "      <td>8.031323</td>\n",
       "      <td>-486.756657</td>\n",
       "      <td>5.047491</td>\n",
       "      <td>-467.938124</td>\n",
       "      <td>10.047098</td>\n",
       "      <td>-499.813489</td>\n",
       "    </tr>\n",
       "  </tbody>\n",
       "</table>\n",
       "<p>3 rows × 53 columns</p>\n",
       "</div>"
      ],
      "text/plain": [
       "                  date  primary_cleaner.input.sulfate  \\\n",
       "29 2016-09-02 05:59:59                     126.329123   \n",
       "30 2016-09-02 06:59:59                            NaN   \n",
       "31 2016-09-02 10:59:59                      64.558863   \n",
       "\n",
       "    primary_cleaner.input.depressant  primary_cleaner.input.feed_size  \\\n",
       "29                          8.003034                           7.1600   \n",
       "30                               NaN                           7.1600   \n",
       "31                          0.061864                           7.1095   \n",
       "\n",
       "    primary_cleaner.input.xanthate  primary_cleaner.state.floatbank8_a_air  \\\n",
       "29                        0.699695                             1400.760536   \n",
       "30                             NaN                              412.629243   \n",
       "31                        0.520084                             1433.954958   \n",
       "\n",
       "    primary_cleaner.state.floatbank8_a_level  \\\n",
       "29                               -500.200817   \n",
       "30                               -795.316337   \n",
       "31                               -499.688476   \n",
       "\n",
       "    primary_cleaner.state.floatbank8_b_air  \\\n",
       "29                             1399.437375   \n",
       "30                              413.703253   \n",
       "31                             1553.150053   \n",
       "\n",
       "    primary_cleaner.state.floatbank8_b_level  \\\n",
       "29                               -500.679938   \n",
       "30                               -787.396567   \n",
       "31                               -500.878552   \n",
       "\n",
       "    primary_cleaner.state.floatbank8_c_air  ...  \\\n",
       "29                             1399.429209  ...   \n",
       "30                              441.604260  ...   \n",
       "31                             1517.894908  ...   \n",
       "\n",
       "    secondary_cleaner.state.floatbank4_a_air  \\\n",
       "29                                 11.960962   \n",
       "30                                  6.576244   \n",
       "31                                 11.993753   \n",
       "\n",
       "    secondary_cleaner.state.floatbank4_a_level  \\\n",
       "29                                 -500.130469   \n",
       "30                                 -616.550019   \n",
       "31                                 -499.148736   \n",
       "\n",
       "    secondary_cleaner.state.floatbank4_b_air  \\\n",
       "29                                  7.924387   \n",
       "30                                  4.625908   \n",
       "31                                  8.129055   \n",
       "\n",
       "    secondary_cleaner.state.floatbank4_b_level  \\\n",
       "29                                 -500.362897   \n",
       "30                                 -678.347958   \n",
       "31                                 -500.125308   \n",
       "\n",
       "    secondary_cleaner.state.floatbank5_a_air  \\\n",
       "29                                  7.849120   \n",
       "30                                  4.451592   \n",
       "31                                  8.031323   \n",
       "\n",
       "    secondary_cleaner.state.floatbank5_a_level  \\\n",
       "29                                 -500.357611   \n",
       "30                                 -795.337422   \n",
       "31                                 -486.756657   \n",
       "\n",
       "    secondary_cleaner.state.floatbank5_b_air  \\\n",
       "29                                  4.983730   \n",
       "30                                  3.544708   \n",
       "31                                  5.047491   \n",
       "\n",
       "    secondary_cleaner.state.floatbank5_b_level  \\\n",
       "29                                 -500.111778   \n",
       "30                                 -800.024373   \n",
       "31                                 -467.938124   \n",
       "\n",
       "    secondary_cleaner.state.floatbank6_a_air  \\\n",
       "29                                  9.935444   \n",
       "30                                  5.914889   \n",
       "31                                 10.047098   \n",
       "\n",
       "    secondary_cleaner.state.floatbank6_a_level  \n",
       "29                                 -500.440997  \n",
       "30                                 -799.501783  \n",
       "31                                 -499.813489  \n",
       "\n",
       "[3 rows x 53 columns]"
      ]
     },
     "execution_count": 22,
     "metadata": {},
     "output_type": "execute_result"
    }
   ],
   "source": [
    "rec_test.iloc[[29,30,31]]"
   ]
  },
  {
   "cell_type": "markdown",
   "metadata": {},
   "source": [
    "В 30 строчке есть пропуски в primary_cleaner.input.sulfate, primary_cleaner.input.depressant, primary_cleaner.input.xanthate, но в 29 и в 31 строчке значения от одной даты снятия параметров с отличием в часах. Я решила заполнить пропуски следующим ненулевым значением из строки. (Долго решала каким заполнять следующим или предыдущим, но решила именно следующим, так как во времени идет продвижение вперед, а не назад и снятие параметров во времени ближе к следующим значениям к которым стремится данная система."
   ]
  },
  {
   "cell_type": "code",
   "execution_count": 23,
   "metadata": {
    "ExecuteTime": {
     "end_time": "2022-10-21T16:30:02.249512Z",
     "start_time": "2022-10-21T16:30:02.204529Z"
    }
   },
   "outputs": [],
   "source": [
    "# заполним пропуски во всех трех датафреймах следующими значениями в строках\n",
    "rec_full = rec_full.fillna(method='ffill', axis=0)\n",
    "rec_test = rec_test.fillna(method='ffill', axis=0)\n",
    "rec_train = rec_train.fillna(method='ffill', axis=0)"
   ]
  },
  {
   "cell_type": "code",
   "execution_count": 24,
   "metadata": {
    "ExecuteTime": {
     "end_time": "2022-10-21T16:30:02.280487Z",
     "start_time": "2022-10-21T16:30:02.252503Z"
    },
    "scrolled": true
   },
   "outputs": [
    {
     "data": {
      "text/html": [
       "<div>\n",
       "<style scoped>\n",
       "    .dataframe tbody tr th:only-of-type {\n",
       "        vertical-align: middle;\n",
       "    }\n",
       "\n",
       "    .dataframe tbody tr th {\n",
       "        vertical-align: top;\n",
       "    }\n",
       "\n",
       "    .dataframe thead th {\n",
       "        text-align: right;\n",
       "    }\n",
       "</style>\n",
       "<table border=\"1\" class=\"dataframe\">\n",
       "  <thead>\n",
       "    <tr style=\"text-align: right;\">\n",
       "      <th></th>\n",
       "      <th>date</th>\n",
       "      <th>primary_cleaner.input.sulfate</th>\n",
       "      <th>primary_cleaner.input.depressant</th>\n",
       "      <th>primary_cleaner.input.feed_size</th>\n",
       "      <th>primary_cleaner.input.xanthate</th>\n",
       "      <th>primary_cleaner.state.floatbank8_a_air</th>\n",
       "      <th>primary_cleaner.state.floatbank8_a_level</th>\n",
       "      <th>primary_cleaner.state.floatbank8_b_air</th>\n",
       "      <th>primary_cleaner.state.floatbank8_b_level</th>\n",
       "      <th>primary_cleaner.state.floatbank8_c_air</th>\n",
       "      <th>...</th>\n",
       "      <th>secondary_cleaner.state.floatbank4_a_air</th>\n",
       "      <th>secondary_cleaner.state.floatbank4_a_level</th>\n",
       "      <th>secondary_cleaner.state.floatbank4_b_air</th>\n",
       "      <th>secondary_cleaner.state.floatbank4_b_level</th>\n",
       "      <th>secondary_cleaner.state.floatbank5_a_air</th>\n",
       "      <th>secondary_cleaner.state.floatbank5_a_level</th>\n",
       "      <th>secondary_cleaner.state.floatbank5_b_air</th>\n",
       "      <th>secondary_cleaner.state.floatbank5_b_level</th>\n",
       "      <th>secondary_cleaner.state.floatbank6_a_air</th>\n",
       "      <th>secondary_cleaner.state.floatbank6_a_level</th>\n",
       "    </tr>\n",
       "  </thead>\n",
       "  <tbody>\n",
       "    <tr>\n",
       "      <th>29</th>\n",
       "      <td>2016-09-02 05:59:59</td>\n",
       "      <td>126.329123</td>\n",
       "      <td>8.003034</td>\n",
       "      <td>7.1600</td>\n",
       "      <td>0.699695</td>\n",
       "      <td>1400.760536</td>\n",
       "      <td>-500.200817</td>\n",
       "      <td>1399.437375</td>\n",
       "      <td>-500.679938</td>\n",
       "      <td>1399.429209</td>\n",
       "      <td>...</td>\n",
       "      <td>11.960962</td>\n",
       "      <td>-500.130469</td>\n",
       "      <td>7.924387</td>\n",
       "      <td>-500.362897</td>\n",
       "      <td>7.849120</td>\n",
       "      <td>-500.357611</td>\n",
       "      <td>4.983730</td>\n",
       "      <td>-500.111778</td>\n",
       "      <td>9.935444</td>\n",
       "      <td>-500.440997</td>\n",
       "    </tr>\n",
       "    <tr>\n",
       "      <th>30</th>\n",
       "      <td>2016-09-02 06:59:59</td>\n",
       "      <td>126.329123</td>\n",
       "      <td>8.003034</td>\n",
       "      <td>7.1600</td>\n",
       "      <td>0.699695</td>\n",
       "      <td>412.629243</td>\n",
       "      <td>-795.316337</td>\n",
       "      <td>413.703253</td>\n",
       "      <td>-787.396567</td>\n",
       "      <td>441.604260</td>\n",
       "      <td>...</td>\n",
       "      <td>6.576244</td>\n",
       "      <td>-616.550019</td>\n",
       "      <td>4.625908</td>\n",
       "      <td>-678.347958</td>\n",
       "      <td>4.451592</td>\n",
       "      <td>-795.337422</td>\n",
       "      <td>3.544708</td>\n",
       "      <td>-800.024373</td>\n",
       "      <td>5.914889</td>\n",
       "      <td>-799.501783</td>\n",
       "    </tr>\n",
       "    <tr>\n",
       "      <th>31</th>\n",
       "      <td>2016-09-02 10:59:59</td>\n",
       "      <td>64.558863</td>\n",
       "      <td>0.061864</td>\n",
       "      <td>7.1095</td>\n",
       "      <td>0.520084</td>\n",
       "      <td>1433.954958</td>\n",
       "      <td>-499.688476</td>\n",
       "      <td>1553.150053</td>\n",
       "      <td>-500.878552</td>\n",
       "      <td>1517.894908</td>\n",
       "      <td>...</td>\n",
       "      <td>11.993753</td>\n",
       "      <td>-499.148736</td>\n",
       "      <td>8.129055</td>\n",
       "      <td>-500.125308</td>\n",
       "      <td>8.031323</td>\n",
       "      <td>-486.756657</td>\n",
       "      <td>5.047491</td>\n",
       "      <td>-467.938124</td>\n",
       "      <td>10.047098</td>\n",
       "      <td>-499.813489</td>\n",
       "    </tr>\n",
       "  </tbody>\n",
       "</table>\n",
       "<p>3 rows × 53 columns</p>\n",
       "</div>"
      ],
      "text/plain": [
       "                  date  primary_cleaner.input.sulfate  \\\n",
       "29 2016-09-02 05:59:59                     126.329123   \n",
       "30 2016-09-02 06:59:59                     126.329123   \n",
       "31 2016-09-02 10:59:59                      64.558863   \n",
       "\n",
       "    primary_cleaner.input.depressant  primary_cleaner.input.feed_size  \\\n",
       "29                          8.003034                           7.1600   \n",
       "30                          8.003034                           7.1600   \n",
       "31                          0.061864                           7.1095   \n",
       "\n",
       "    primary_cleaner.input.xanthate  primary_cleaner.state.floatbank8_a_air  \\\n",
       "29                        0.699695                             1400.760536   \n",
       "30                        0.699695                              412.629243   \n",
       "31                        0.520084                             1433.954958   \n",
       "\n",
       "    primary_cleaner.state.floatbank8_a_level  \\\n",
       "29                               -500.200817   \n",
       "30                               -795.316337   \n",
       "31                               -499.688476   \n",
       "\n",
       "    primary_cleaner.state.floatbank8_b_air  \\\n",
       "29                             1399.437375   \n",
       "30                              413.703253   \n",
       "31                             1553.150053   \n",
       "\n",
       "    primary_cleaner.state.floatbank8_b_level  \\\n",
       "29                               -500.679938   \n",
       "30                               -787.396567   \n",
       "31                               -500.878552   \n",
       "\n",
       "    primary_cleaner.state.floatbank8_c_air  ...  \\\n",
       "29                             1399.429209  ...   \n",
       "30                              441.604260  ...   \n",
       "31                             1517.894908  ...   \n",
       "\n",
       "    secondary_cleaner.state.floatbank4_a_air  \\\n",
       "29                                 11.960962   \n",
       "30                                  6.576244   \n",
       "31                                 11.993753   \n",
       "\n",
       "    secondary_cleaner.state.floatbank4_a_level  \\\n",
       "29                                 -500.130469   \n",
       "30                                 -616.550019   \n",
       "31                                 -499.148736   \n",
       "\n",
       "    secondary_cleaner.state.floatbank4_b_air  \\\n",
       "29                                  7.924387   \n",
       "30                                  4.625908   \n",
       "31                                  8.129055   \n",
       "\n",
       "    secondary_cleaner.state.floatbank4_b_level  \\\n",
       "29                                 -500.362897   \n",
       "30                                 -678.347958   \n",
       "31                                 -500.125308   \n",
       "\n",
       "    secondary_cleaner.state.floatbank5_a_air  \\\n",
       "29                                  7.849120   \n",
       "30                                  4.451592   \n",
       "31                                  8.031323   \n",
       "\n",
       "    secondary_cleaner.state.floatbank5_a_level  \\\n",
       "29                                 -500.357611   \n",
       "30                                 -795.337422   \n",
       "31                                 -486.756657   \n",
       "\n",
       "    secondary_cleaner.state.floatbank5_b_air  \\\n",
       "29                                  4.983730   \n",
       "30                                  3.544708   \n",
       "31                                  5.047491   \n",
       "\n",
       "    secondary_cleaner.state.floatbank5_b_level  \\\n",
       "29                                 -500.111778   \n",
       "30                                 -800.024373   \n",
       "31                                 -467.938124   \n",
       "\n",
       "    secondary_cleaner.state.floatbank6_a_air  \\\n",
       "29                                  9.935444   \n",
       "30                                  5.914889   \n",
       "31                                 10.047098   \n",
       "\n",
       "    secondary_cleaner.state.floatbank6_a_level  \n",
       "29                                 -500.440997  \n",
       "30                                 -799.501783  \n",
       "31                                 -499.813489  \n",
       "\n",
       "[3 rows x 53 columns]"
      ]
     },
     "execution_count": 24,
     "metadata": {},
     "output_type": "execute_result"
    }
   ],
   "source": [
    "# проверим как прошло заполнение в раннее упомянутых строках тестового датафрейма\n",
    "rec_test.iloc[[29,30,31]]"
   ]
  },
  {
   "cell_type": "code",
   "execution_count": 25,
   "metadata": {
    "ExecuteTime": {
     "end_time": "2022-10-21T16:30:02.311468Z",
     "start_time": "2022-10-21T16:30:02.282486Z"
    },
    "scrolled": true
   },
   "outputs": [
    {
     "name": "stdout",
     "output_type": "stream",
     "text": [
      "Размер тренировочной выборки: (14149, 87) количество ненулевых строк 14149\n",
      "\n",
      "Размер тестовой выборки: (5290, 53) количество ненулевых строк 5290\n",
      "\n",
      "Размер всех данных: (19439, 87) количество ненулевых строк 19439\n"
     ]
    }
   ],
   "source": [
    "print(\"Размер тренировочной выборки:\", rec_train.shape, 'количество ненулевых строк', len(rec_train.notna()))\n",
    "print(\"\\nРазмер тестовой выборки:\",    rec_test .shape, 'количество ненулевых строк', len(rec_test.notna()))\n",
    "print(\"\\nРазмер всех данных:\",         rec_full .shape, 'количество ненулевых строк', len(rec_full.notna()))"
   ]
  },
  {
   "cell_type": "markdown",
   "metadata": {},
   "source": [
    "Вроде все прошло успешно. Вообще изначально моей идеей было заполнение средним значением между двумя предыдущими строками. Но! \n",
    "\n",
    "**Во-первых** я не нашла и не сообразила, как это сделать.\n",
    "\n",
    "\n",
    "**Во-вторых**, для такого большого количества строк небольшое количество (примерно 10%) пропусков с \"кривыми заполнениями\" наверно не так страшны. \n",
    "\n",
    "**В-третьих**, есть шанс встречи с двумя, тремя пропусками подряд и тогда весь мой план рухнет и я решила оставить, как есть и идти дальше."
   ]
  },
  {
   "cell_type": "markdown",
   "metadata": {},
   "source": [
    "### Добавление целевых признаков  в тестовую выборку"
   ]
  },
  {
   "cell_type": "markdown",
   "metadata": {},
   "source": [
    "В тестовой выборке нет целевых признаков rougher.output.recovery и final.output.recovery. Возьмем эти признаки из полной выборки"
   ]
  },
  {
   "cell_type": "code",
   "execution_count": 26,
   "metadata": {
    "ExecuteTime": {
     "end_time": "2022-10-21T16:30:02.342450Z",
     "start_time": "2022-10-21T16:30:02.317463Z"
    }
   },
   "outputs": [
    {
     "data": {
      "text/plain": [
       "(5290, 55)"
      ]
     },
     "execution_count": 26,
     "metadata": {},
     "output_type": "execute_result"
    }
   ],
   "source": [
    "rec_test = rec_test.merge(rec_full.loc[:, ['date','rougher.output.recovery','final.output.recovery']], on='date')\n",
    "rec_test.shape"
   ]
  },
  {
   "cell_type": "markdown",
   "metadata": {},
   "source": [
    "Вот, собственно зачем меняли тип данных в основном датафрейме"
   ]
  },
  {
   "cell_type": "markdown",
   "metadata": {},
   "source": [
    "### Удаление индексации"
   ]
  },
  {
   "cell_type": "markdown",
   "metadata": {},
   "source": [
    "Удалим признак date, для обучения моделей он не нужен"
   ]
  },
  {
   "cell_type": "code",
   "execution_count": 27,
   "metadata": {
    "ExecuteTime": {
     "end_time": "2022-10-21T16:30:02.373432Z",
     "start_time": "2022-10-21T16:30:02.344451Z"
    }
   },
   "outputs": [],
   "source": [
    "rec_train = rec_train.drop('date', axis=1)\n",
    "rec_test = rec_test.drop('date', axis=1)"
   ]
  },
  {
   "cell_type": "markdown",
   "metadata": {},
   "source": [
    "**В ходе подготовки данных было выполнено:**\n",
    "\n",
    "1) Определены размеры данных и выявлены наличие пропусков почти в каждом из параметров.\n",
    "\n",
    "2) Проведена проверка эффективности обогащения : сравнивались данные снятые на производстве с эффективностью, рассчитанной по формуле. Расчеты MAE показали, что эффективность расчитана верно и отклонения ооооочень незначителые (почти 0).\n",
    "\n",
    "3) Обнаружены принаки ненужные для обучения модели.\n",
    "\n",
    "4) Проведен анализ пропущенных признаков.\n",
    "\n",
    "5) Дубликаты не обнаружены.\n",
    "\n",
    "6) Заполнение пропусков в пропущенных параметрах.\n",
    "\n",
    "7) Добавленые целевые признаки в тестовую выборку, так как они тоже были удалены, как и те, которые описаны в п.3.\n",
    "\n",
    "8) Перед удалением столбца с индексацией был изменен тип данных для возможности сведенияданных по индексам.\n",
    "\n",
    "Переходим к анализу данных."
   ]
  },
  {
   "cell_type": "markdown",
   "metadata": {},
   "source": [
    "## АНАЛИЗ ДАННЫХ"
   ]
  },
  {
   "cell_type": "markdown",
   "metadata": {},
   "source": [
    "### Изменение концентраций золота, серебра и свинца на различных этапах очистки"
   ]
  },
  {
   "cell_type": "markdown",
   "metadata": {},
   "source": [
    "Для построения графика с наглядным распределением концентраций напишем функцию, которая построит KDE распределение на каждом этапе очтстки."
   ]
  },
  {
   "cell_type": "code",
   "execution_count": 28,
   "metadata": {
    "ExecuteTime": {
     "end_time": "2022-10-21T16:30:02.389423Z",
     "start_time": "2022-10-21T16:30:02.376430Z"
    }
   },
   "outputs": [],
   "source": [
    "def construct_diagram(dataframe, metal, position):\n",
    "    verbose_dict = { # для удобств понимания данных\n",
    "        'au': 'золота',\n",
    "        'ag': 'серебра',\n",
    "        'pb': 'свинца',\n",
    "    }\n",
    "    \n",
    "    rgh_input = f'rougher.input.feed_{metal}'\n",
    "    rgh_output = f'rougher.output.concentrate_{metal}'\n",
    "    primery_output = f'primary_cleaner.output.concentrate_{metal}'\n",
    "    final_output = f'final.output.concentrate_{metal}'\n",
    "\n",
    "    plt.subplot(3, 1, position) \n",
    "    plt.title(f'Распределение {verbose_dict[metal]}', fontsize=14)\n",
    "    sns.set_style('darkgrid')\n",
    "    sns.histplot(dataframe[rgh_input], color='r', label='Сырьё', kde=True)\n",
    "    sns.histplot(\n",
    "        dataframe[rgh_output], \n",
    "        color='b', \n",
    "        label='Концентрация после флотации', \n",
    "        kde=True,\n",
    "    )\n",
    "    sns.histplot(\n",
    "        dataframe[primery_output],\n",
    "        color='y', \n",
    "        label='Концентрация после первичной очистки', \n",
    "        kde=True,\n",
    "    )\n",
    "    sns.histplot(\n",
    "        dataframe[final_output], \n",
    "        color='g', \n",
    "        label=f'Финальная концетрация {verbose_dict[metal]}',\n",
    "        kde=True,\n",
    "    )\n",
    "    plt.xlabel(f'Концентрация металла {verbose_dict[metal]}')\n",
    "    plt.ylabel('Частота')\n",
    "    plt.legend()\n",
    "    plt.xlim(0,)"
   ]
  },
  {
   "cell_type": "markdown",
   "metadata": {},
   "source": [
    "Построим распределение."
   ]
  },
  {
   "cell_type": "code",
   "execution_count": 29,
   "metadata": {
    "ExecuteTime": {
     "end_time": "2022-10-21T16:30:08.772389Z",
     "start_time": "2022-10-21T16:30:02.391421Z"
    },
    "scrolled": true
   },
   "outputs": [
    {
     "data": {
      "image/png": "[encoded data removed]",
      "text/plain": [
       "<Figure size 1080x1224 with 3 Axes>"
      ]
     },
     "metadata": {
      "needs_background": "light"
     },
     "output_type": "display_data"
    }
   ],
   "source": [
    "plt.figure(figsize=[15, 17])\n",
    "plt.subplots_adjust(top=0.94, wspace=0.2, hspace=0.3)\n",
    "plt.suptitle('График изменения концентрации металлов на различных этапах очистки.', fontsize=17)\n",
    "\n",
    "for metal, position in zip(METALS[:-1], range(1, 4)):\n",
    "    construct_diagram(rec_train, metal, position)\n",
    "    \n",
    "plt.show();"
   ]
  },
  {
   "cell_type": "markdown",
   "metadata": {},
   "source": [
    "ВЫВОД\n",
    "\n",
    "1) График изменения концентрации золота наглядно демонстрирует, что процесс удался и концентрацию удалось увеличить в среднем до 45%.\n",
    "\n",
    "2) С Серебром немного сложнее - оно сконцентрировалось после флотации, а дальше концентрация начала падать и в итоге получилась меньше чем была исходной. Возможно потому что серебро здесь самый легкий металл по его-физическим свойствам флотация самый лучший вариант концентрирования. А в дальнейших этапах, где уже идет химическая очистка серебро вымывается из руды и отправляется в отвальные хвосты.\n",
    "\n",
    "3) Свинец-тяжелый металл. Его концентрация после первой очистки практически не изменяется.Но сконцентрировать его удается в отличие от серебра."
   ]
  },
  {
   "cell_type": "markdown",
   "metadata": {},
   "source": [
    " ### Сравним распределения размеров гранул сырья на обучающей и тестовой выборках"
   ]
  },
  {
   "cell_type": "code",
   "execution_count": 30,
   "metadata": {
    "ExecuteTime": {
     "end_time": "2022-10-21T16:30:09.474165Z",
     "start_time": "2022-10-21T16:30:08.775388Z"
    }
   },
   "outputs": [
    {
     "data": {
      "image/png": "[encoded data removed]",
      "text/plain": [
       "<Figure size 1080x720 with 2 Axes>"
      ]
     },
     "metadata": {},
     "output_type": "display_data"
    }
   ],
   "source": [
    "verbose_stage = {\n",
    "    'rougher': 'флотации',\n",
    "    'primary_cleaner': 'первичной очистки',\n",
    "}\n",
    "\n",
    "plt.figure(figsize=[15, 10])\n",
    "plt.suptitle('Распределение размеров гранул сырья на обучающей и тестовой выборках.', fontsize=15)\n",
    "for stage, position in zip(['rougher', 'primary_cleaner'], range(1,3)):\n",
    "    plt.subplot(2, 1, position)\n",
    "    plt.title(f'График распределения гранул для {verbose_stage[stage]}', fontsize=14)\n",
    "    sns.set_style('darkgrid')\n",
    "    plt.hist(rec_train[f'{stage}.input.feed_size'], bins = 50, label='Обучающая выборка', alpha = 0.8)\n",
    "    plt.hist(rec_test[f'{stage}.input.feed_size'], bins = 50, label='Тестовая выборка', alpha= 0.6)\n",
    "    plt.xlabel('Размер гранул')\n",
    "    plt.ylabel('Количество наблюдений')\n",
    "    plt.legend()\n",
    "plt.show()"
   ]
  },
  {
   "cell_type": "markdown",
   "metadata": {},
   "source": [
    " Размеры гранул  для первичной очистки между обучающей и тестовой выборками схожи.\n",
    " \n",
    " А вот гранулы в сырье отличаются. Но я считаю, что все ок, потому что в обучающей выборке есть диапазон тех размеров гранул, которые есть в тестовой."
   ]
  },
  {
   "cell_type": "markdown",
   "metadata": {},
   "source": [
    "### Исследуем суммарную концентрацию всех веществ на разных стадиях"
   ]
  },
  {
   "cell_type": "code",
   "execution_count": 31,
   "metadata": {
    "ExecuteTime": {
     "end_time": "2022-10-21T16:30:09.489156Z",
     "start_time": "2022-10-21T16:30:09.476164Z"
    }
   },
   "outputs": [],
   "source": [
    "def sum_concentrate(metals, dataframe):\n",
    "    sum_con_stage_1 = 0\n",
    "    sum_con_stage_2 = 0\n",
    "    sum_con_stage_3 = 0\n",
    "    \n",
    "    for metal in metals:\n",
    "        sum_con_stage_1 += dataframe[f'rougher.input.feed_{metal}']\n",
    "        sum_con_stage_2 += dataframe[f'rougher.output.concentrate_{metal}']\n",
    "        sum_con_stage_3 += dataframe[f'final.output.concentrate_{metal}']\n",
    "    \n",
    "    return sum_con_stage_1, sum_con_stage_2, sum_con_stage_3"
   ]
  },
  {
   "cell_type": "code",
   "execution_count": 32,
   "metadata": {
    "ExecuteTime": {
     "end_time": "2022-10-21T16:30:09.505159Z",
     "start_time": "2022-10-21T16:30:09.495152Z"
    }
   },
   "outputs": [],
   "source": [
    "sum_rgh_input_feed, sum_rgh_output_con, sum_fin_output_con = sum_concentrate(METALS, rec_train)"
   ]
  },
  {
   "cell_type": "code",
   "execution_count": 33,
   "metadata": {
    "ExecuteTime": {
     "end_time": "2022-10-21T16:30:10.902405Z",
     "start_time": "2022-10-21T16:30:09.508145Z"
    }
   },
   "outputs": [
    {
     "data": {
      "image/png": "[encoded data removed]",
      "text/plain": [
       "<Figure size 720x360 with 1 Axes>"
      ]
     },
     "metadata": {},
     "output_type": "display_data"
    }
   ],
   "source": [
    "plt.figure(figsize=[10, 5])\n",
    "plt.suptitle('График суммарной концентрации веществ на разных стадиях', fontsize=15)\n",
    "sns.set_style('darkgrid')\n",
    "sns.histplot(sum_rgh_input_feed, color='r', label='Сырье', kde=False)\n",
    "sns.histplot(sum_rgh_output_con, color='b', label='Черновой концентрат', kde=False)\n",
    "sns.histplot(sum_fin_output_con, color='g', label='Финальный концентрат',kde=False)\n",
    "plt.xlabel('Концентрация веществ')\n",
    "plt.ylabel('Количество наблюдений')\n",
    "plt.legend()\n",
    "plt.show()"
   ]
  },
  {
   "cell_type": "markdown",
   "metadata": {},
   "source": [
    "На данном графике видно, что в финальном концентрате преобладают 70) концентрации (график высокий и узкий). Черновой концентрат тоже высокий и широкий, но если вспаомнить распределение свинца, то скорее всего оно и серебро сносят свою лепту и увеличивают данное распределение.\n",
    "\n",
    "На всех графиках в присутсвуют выбросы в виде нулевых значений. Причину я не смогла выявить, но так как данных много, то решила просто от них избавиться."
   ]
  },
  {
   "cell_type": "markdown",
   "metadata": {},
   "source": [
    "### Удаление выбросов"
   ]
  },
  {
   "cell_type": "code",
   "execution_count": 34,
   "metadata": {
    "ExecuteTime": {
     "end_time": "2022-10-21T16:30:10.918382Z",
     "start_time": "2022-10-21T16:30:10.904389Z"
    }
   },
   "outputs": [],
   "source": [
    "def anomaly_delete(df, stage):      \n",
    "    new_df = df[\n",
    "        (df[f'{stage}.output.concentrate_au'] != 0)\n",
    "        &  (df[f'{stage}.output.concentrate_ag'] != 0)\n",
    "        &  (df[f'{stage}.output.concentrate_pb'] != 0)\n",
    "        &  (df[f'{stage}.output.concentrate_sol'] != 0)\n",
    "    ]\n",
    "    \n",
    "    return new_df"
   ]
  },
  {
   "cell_type": "code",
   "execution_count": 35,
   "metadata": {
    "ExecuteTime": {
     "end_time": "2022-10-21T16:30:10.981360Z",
     "start_time": "2022-10-21T16:30:10.924379Z"
    }
   },
   "outputs": [],
   "source": [
    "rec_train = anomaly_delete(rec_train, 'rougher')\n",
    "rec_train = anomaly_delete(rec_train, 'final')\n",
    "\n",
    "rec_full = anomaly_delete(rec_full, 'rougher')\n",
    "rec_full = anomaly_delete(rec_full, 'final')\n",
    "#  в тестовой нет таких столбцов"
   ]
  },
  {
   "cell_type": "markdown",
   "metadata": {},
   "source": [
    "Теперь, когда анализ завершен, удалим те признаки тренировочной выборки, которых нет в тестовой (за исключением целевых - **'rougher.output.recovery' и 'final.output.recovery'**)"
   ]
  },
  {
   "cell_type": "code",
   "execution_count": 36,
   "metadata": {
    "ExecuteTime": {
     "end_time": "2022-10-21T16:30:10.997336Z",
     "start_time": "2022-10-21T16:30:10.983344Z"
    }
   },
   "outputs": [
    {
     "name": "stdout",
     "output_type": "stream",
     "text": [
      "Количество признаков 32\n"
     ]
    }
   ],
   "source": [
    "ext_columns.remove('rougher.output.recovery')\n",
    "ext_columns.remove('final.output.recovery')\n",
    "print(\"Количество признаков\", len(ext_columns))"
   ]
  },
  {
   "cell_type": "code",
   "execution_count": 37,
   "metadata": {
    "ExecuteTime": {
     "end_time": "2022-10-21T16:30:11.029317Z",
     "start_time": "2022-10-21T16:30:11.000335Z"
    }
   },
   "outputs": [
    {
     "name": "stdout",
     "output_type": "stream",
     "text": [
      "(13792, 86)\n",
      "(13792, 54)\n"
     ]
    }
   ],
   "source": [
    "print(rec_train.shape)\n",
    "\n",
    "rec_train = rec_train.drop(columns=ext_columns, axis=1)\n",
    "\n",
    "print(rec_train.shape)"
   ]
  },
  {
   "cell_type": "markdown",
   "metadata": {},
   "source": [
    "В ходе анализа данных, были исследованы изменения концентрации трех металлов в исходной руде. Графики показали увеличение концентрации целевого металла - золота до 45%. \n",
    "\n",
    "Также была замечена тенденция к снижению концентрации серебра. Свинец - не драгоценный металл портит всю картину и концентрируется уже после первого этапа очистки.\n",
    "\n",
    "При изучении размеров гранул сырья колоссальных отличий не выявлено.\n",
    "\n",
    "Были замечены странные значения нулевых концентраций, от которых было принято решение сразу же избавиться.\n",
    "\n",
    "Датафреймы более менее готовы к \"скормлению\" поэтому перейдем к моделям."
   ]
  },
  {
   "cell_type": "markdown",
   "metadata": {},
   "source": [
    "## ПОСТРОЕНИЕ МОДЕЛИ"
   ]
  },
  {
   "cell_type": "markdown",
   "metadata": {},
   "source": [
    "В данном проекте нужна своя метрика качества и ее формулу забоьливо дали в теории. Из Слака я узнала, что можно создавать свою метрику прям для модели и я не могла этим не воспользоваться."
   ]
  },
  {
   "cell_type": "markdown",
   "metadata": {},
   "source": [
    "### Напишем функцию для вычисления итоговой sMAPE"
   ]
  },
  {
   "cell_type": "code",
   "execution_count": 38,
   "metadata": {
    "ExecuteTime": {
     "end_time": "2022-10-21T16:30:11.045309Z",
     "start_time": "2022-10-21T16:30:11.035318Z"
    }
   },
   "outputs": [],
   "source": [
    "# для вычисления sMAPE\n",
    "\n",
    "def calculate_smape(target, predict):\n",
    "    smape = (\n",
    "        (1 / len(target))\n",
    "        * np.sum((np.abs(target - predict))\n",
    "        / ( (np.abs(target)\n",
    "        + np.abs(predict)) / 2))\n",
    "        * 100\n",
    "    )\n",
    "        \n",
    "    return smape"
   ]
  },
  {
   "cell_type": "code",
   "execution_count": 39,
   "metadata": {
    "ExecuteTime": {
     "end_time": "2022-10-21T16:30:11.061300Z",
     "start_time": "2022-10-21T16:30:11.048308Z"
    }
   },
   "outputs": [],
   "source": [
    "# для вычисления итоговой sMAPE\n",
    "\n",
    "def get_final_smape(rougher, final):\n",
    "    final = 0.25 * rougher + 0.75 * final\n",
    "    \n",
    "    return final"
   ]
  },
  {
   "cell_type": "markdown",
   "metadata": {},
   "source": [
    "Подготовим признаки для обучения моделей"
   ]
  },
  {
   "cell_type": "code",
   "execution_count": 40,
   "metadata": {
    "ExecuteTime": {
     "end_time": "2022-10-21T16:30:11.077289Z",
     "start_time": "2022-10-21T16:30:11.066300Z"
    }
   },
   "outputs": [],
   "source": [
    "features = rec_train.drop(['rougher.output.recovery', 'final.output.recovery'], axis=1)\n",
    "rougher_target = rec_train['rougher.output.recovery']\n",
    "final_target = rec_train['final.output.recovery']"
   ]
  },
  {
   "cell_type": "markdown",
   "metadata": {},
   "source": [
    "Это как раз-таки и есть внедрение собственой метрики для модели. Чем она меньше, тем модель эффективнее."
   ]
  },
  {
   "cell_type": "code",
   "execution_count": 41,
   "metadata": {
    "ExecuteTime": {
     "end_time": "2022-10-21T16:30:11.093279Z",
     "start_time": "2022-10-21T16:30:11.079288Z"
    }
   },
   "outputs": [],
   "source": [
    "smape_scorer = make_scorer(calculate_smape)"
   ]
  },
  {
   "cell_type": "markdown",
   "metadata": {},
   "source": [
    "Я знаю из чудесных лекций практикума три модели. С ними я и буду работать."
   ]
  },
  {
   "cell_type": "markdown",
   "metadata": {},
   "source": [
    "### Подбор параметров для LinearRegression"
   ]
  },
  {
   "cell_type": "code",
   "execution_count": 42,
   "metadata": {
    "ExecuteTime": {
     "end_time": "2022-10-21T16:30:11.475059Z",
     "start_time": "2022-10-21T16:30:11.096280Z"
    },
    "scrolled": true
   },
   "outputs": [
    {
     "name": "stdout",
     "output_type": "stream",
     "text": [
      "10.059261443482796\n",
      "CPU times: user 893 ms, sys: 1.89 s, total: 2.78 s\n",
      "Wall time: 2.79 s\n"
     ]
    }
   ],
   "source": [
    "%%time\n",
    "\n",
    "regression_rougher = LinearRegression()\n",
    "smape_rougher = cross_val_score(\n",
    "    regression_rougher,\n",
    "    features,\n",
    "    rougher_target,\n",
    "    scoring=smape_scorer,\n",
    "    cv=5,\n",
    ")\n",
    "\n",
    "final_smape_rougher = smape_rougher.mean()\n",
    "regression_final = LinearRegression()\n",
    "smape_final = cross_val_score(\n",
    "    regression_final,\n",
    "    features,\n",
    "    final_target,\n",
    "    scoring=smape_scorer,\n",
    "    cv=5,\n",
    ")\n",
    "\n",
    "final_smape_final = smape_final.mean()\n",
    "\n",
    "result_smape = get_final_smape(final_smape_rougher, final_smape_final) # * (-1)\n",
    "print(result_smape)"
   ]
  },
  {
   "cell_type": "markdown",
   "metadata": {},
   "source": [
    "### Подбор параметров для DecisionTreeRegressor"
   ]
  },
  {
   "cell_type": "code",
   "execution_count": 43,
   "metadata": {
    "ExecuteTime": {
     "end_time": "2022-10-21T16:27:32.625915Z",
     "start_time": "2022-10-21T16:27:07.774103Z"
    }
   },
   "outputs": [
    {
     "name": "stdout",
     "output_type": "stream",
     "text": [
      "8.925785452030949\n",
      "3\n",
      "CPU times: user 21.8 s, sys: 132 ms, total: 21.9 s\n",
      "Wall time: 21.9 s\n"
     ]
    }
   ],
   "source": [
    "%%time\n",
    "\n",
    "best_result_tree = 100\n",
    "best_param_tree = 0\n",
    "\n",
    "for n in range(1, 10):\n",
    "    tree_rougher = DecisionTreeRegressor(max_depth=n, random_state=RS)\n",
    "    smape_rougher = cross_val_score(\n",
    "        tree_rougher,\n",
    "        features,\n",
    "        rougher_target,\n",
    "        scoring=smape_scorer,\n",
    "        cv=5,\n",
    "    )\n",
    "    \n",
    "    final_smape_rougher = smape_rougher.mean()\n",
    "\n",
    "    tree_final = DecisionTreeRegressor(max_depth=n, random_state=RS)\n",
    "    smape_final = cross_val_score(\n",
    "        tree_final,\n",
    "        features,\n",
    "        final_target,\n",
    "        scoring=smape_scorer,\n",
    "        cv=5,\n",
    "    )\n",
    "    \n",
    "    final_smape_final = smape_final.mean()\n",
    "    result_smape = get_final_smape(final_smape_rougher, final_smape_final)# * (-1)\n",
    "    \n",
    "    if result_smape < best_result_tree:\n",
    "        best_result_tree = result_smape\n",
    "        best_param_tree= n\n",
    "\n",
    "print(best_result_tree)\n",
    "print(best_param_tree)"
   ]
  },
  {
   "cell_type": "markdown",
   "metadata": {},
   "source": [
    "### Подбор параметров для RandomForestRegressor"
   ]
  },
  {
   "cell_type": "code",
   "execution_count": 44,
   "metadata": {
    "ExecuteTime": {
     "end_time": "2022-10-21T16:42:49.254372Z",
     "start_time": "2022-10-21T16:30:11.478059Z"
    }
   },
   "outputs": [
    {
     "name": "stdout",
     "output_type": "stream",
     "text": [
      "8.766201802754104\n",
      "[100, 2]\n",
      "CPU times: user 4min 18s, sys: 630 ms, total: 4min 19s\n",
      "Wall time: 4min 19s\n"
     ]
    }
   ],
   "source": [
    "%%time\n",
    "\n",
    "best_model_forest = 100\n",
    "best_param_forest = 0\n",
    "for n in range(100, 130, 30):\n",
    "    for d in range(2,10,5):\n",
    "        forest_rougher = RandomForestRegressor(n_estimators=n, max_depth=d, random_state=RS)\n",
    "        smape_rougher = cross_val_score(\n",
    "            forest_rougher,\n",
    "            features,\n",
    "            rougher_target,\n",
    "            scoring=smape_scorer,\n",
    "            cv=5,\n",
    "        )\n",
    "                                  \n",
    "        final_smape_rougher = smape_rougher.mean()\n",
    "\n",
    "        forest_final = RandomForestRegressor(n_estimators=n, max_depth=d, random_state=RS)\n",
    "        smape_final = cross_val_score(\n",
    "            forest_final,\n",
    "            features,\n",
    "            final_target,\n",
    "            scoring=smape_scorer,\n",
    "            cv=5,\n",
    "        )\n",
    "        \n",
    "        final_smape_final = smape_final.mean()\n",
    "        result_smape = get_final_smape(final_smape_rougher, final_smape_final)\n",
    "        \n",
    "        if result_smape < best_model_forest:\n",
    "            best_model_forest = result_smape\n",
    "            best_param_forest = [n, d]\n",
    "            \n",
    "print(best_model_forest)\n",
    "print(best_param_forest)"
   ]
  },
  {
   "cell_type": "markdown",
   "metadata": {},
   "source": [
    "~Пожалуй, это было самое трудное испытание для моего старичка - ноутбука. Пробовала диапазон от 100 деревьев до 300, как посоветовали в слаке, но комьютер не пережил данный процесс. А вот с более маленьким диапазоном отрабоать смог.~"
   ]
  },
  {
   "cell_type": "markdown",
   "metadata": {},
   "source": [
    "В результате исследования методом кросс-валидации, стало понятно, что лучшей моделью является - RandomForestRegressor. С параметрами:\n",
    "\n",
    "Количество деревьев:100\n",
    "\n",
    "Глубина дерева:7\n",
    "\n",
    "На которых эта модель отрабатывает с лучшим значением sMAPE (наименьшим из всех)"
   ]
  },
  {
   "cell_type": "markdown",
   "metadata": {},
   "source": [
    "### Обучим лучшую модель."
   ]
  },
  {
   "cell_type": "markdown",
   "metadata": {},
   "source": [
    "Подготовим признаки для обучения на тестовых данных."
   ]
  },
  {
   "cell_type": "code",
   "execution_count": 45,
   "metadata": {
    "ExecuteTime": {
     "end_time": "2022-10-21T17:00:42.795871Z",
     "start_time": "2022-10-21T17:00:42.773884Z"
    }
   },
   "outputs": [],
   "source": [
    "features_test = rec_test.drop(['rougher.output.recovery', 'final.output.recovery'], axis=1)\n",
    "rougher_target_test = rec_test['rougher.output.recovery']\n",
    "final_target_test = rec_test['final.output.recovery']"
   ]
  },
  {
   "cell_type": "code",
   "execution_count": 46,
   "metadata": {
    "ExecuteTime": {
     "end_time": "2022-10-21T17:07:17.416608Z",
     "start_time": "2022-10-21T17:07:16.852692Z"
    }
   },
   "outputs": [
    {
     "name": "stdout",
     "output_type": "stream",
     "text": [
      "9.256113915912827\n"
     ]
    }
   ],
   "source": [
    "test_rougher_model = RandomForestRegressor(\n",
    "    n_estimators=100,\n",
    "    max_depth=7,\n",
    "    random_state=RS\n",
    ")\n",
    "\n",
    "test_final_model = RandomForestRegressor(\n",
    "    n_estimators=100,\n",
    "    max_depth=7,\n",
    "    random_state=RS\n",
    ")\n",
    "\n",
    "test_rougher_model.fit(features, rougher_target)\n",
    "rougher_prediction = test_rougher_model.predict(features_test)\n",
    "\n",
    "test_final_model.fit(features, final_target)\n",
    "final_prediction = test_final_model.predict(features_test)\n",
    "\n",
    "rougher_test_smape = calculate_smape(rougher_target_test, rougher_prediction)\n",
    "final_test_smape = calculate_smape(final_target_test, final_prediction)\n",
    "\n",
    "# итоговая sMAPE\n",
    "fin_smape = get_final_smape(rougher_test_smape, final_test_smape)\n",
    "print(fin_smape)"
   ]
  },
  {
   "cell_type": "markdown",
   "metadata": {},
   "source": [
    " ### Проверка модели на вменяемость"
   ]
  },
  {
   "cell_type": "markdown",
   "metadata": {},
   "source": [
    "В предыдущих проектах просили что-то подобное, поэтому добавляю и сюда."
   ]
  },
  {
   "cell_type": "code",
   "execution_count": 47,
   "metadata": {
    "ExecuteTime": {
     "end_time": "2022-10-21T17:03:03.599170Z",
     "start_time": "2022-10-21T17:03:03.581184Z"
    }
   },
   "outputs": [],
   "source": [
    "# создаем константную (случайную) модель\n",
    "const_model_rougher = DummyRegressor(strategy=\"mean\")\n",
    "const_model_final = DummyRegressor(strategy=\"mean\")\n",
    "\n",
    "# обучаем это модель\n",
    "const_model_rougher.fit(features, rougher_target)\n",
    "const_model_final.fit(features, final_target)\n",
    "\n",
    "# делаем предсказания случайной модели\n",
    "const_rougher_prediction = const_model_rougher.predict(features_test)\n",
    "const_final_prediction = const_model_final.predict(features_test)\n",
    "\n",
    "# вычисляем sMAPE\n",
    "const_rougher_smape = calculate_smape(rougher_target_test, const_rougher_prediction)\n",
    "const_final_smape = calculate_smape(final_target_test, const_final_prediction)\n",
    "\n",
    "const_fin_smape = get_final_smape(const_rougher_smape, const_final_smape)"
   ]
  },
  {
   "cell_type": "code",
   "execution_count": 48,
   "metadata": {
    "ExecuteTime": {
     "end_time": "2022-10-21T17:03:04.461388Z",
     "start_time": "2022-10-21T17:03:04.442417Z"
    }
   },
   "outputs": [
    {
     "name": "stdout",
     "output_type": "stream",
     "text": [
      "sMAPE константной модели: 9.82146839182027\n",
      "sMAPE модели Random Forest: 9.256113915912827\n"
     ]
    }
   ],
   "source": [
    "# сравниваем два значения sMAPE\n",
    "print(f'sMAPE константной модели: {const_fin_smape}')\n",
    "print(f'sMAPE модели Random Forest: {fin_smape}')"
   ]
  },
  {
   "cell_type": "markdown",
   "metadata": {},
   "source": [
    "Ура! Показатель sMAPE нашей модели ниже константной, значит она адекватна! \n",
    "~Вот бы и меня так проверить)~"
   ]
  },
  {
   "cell_type": "markdown",
   "metadata": {},
   "source": [
    "## ОБЩИЙ ВЫВОД"
   ]
  },
  {
   "cell_type": "markdown",
   "metadata": {},
   "source": [
    "В ходе данного проекта мною было сделано исследование:\n",
    "\n",
    "1) Были подготовлены данные: проверен расчет эффективности обогащения (который оказался верным), заполнены пропуски в данных, удалены лишние параметры из обучающей выборки, добавлены целевые признаки в тестовую выборку. \n",
    "\n",
    "2) Анализ данных был графическим так как данных много и графики нагляднее отражают производственные этапы.\n",
    "В анализе мы убедились в том, что концентрация золота действительно увеличивается после каждого этапа, значит обогащение идет целенаправленно и с высоким КПД. Также было проверено распределение серебра и золота в процессе обогащения золота, которое показало, что серебро таким способом не обогатить и оно теряет свои концентрацию после финального этапа. Для свинца тоже данный способ не эффективен, так как в последних двух этапах концентрация свинца практически не изменяется.\n",
    "\n",
    "3) Далее для оценки качества моделей была создана функция для вычисления эфективности модели sMAPE.\n",
    "На основании трех изученных мною моделей я провела кросс-валидацию для вычисления параметров каждой из моделей. Сложность заключалась в том, что я впервые столкнулась с двумя целевыми параметрами. Но не смотря на это, ~мой компьютер, конечно, не в восторге от всех проведенных процедур подбора параметров~ - лучшую эффективность показала модель случайного леса с параметрами : количество деревьев - 100, глубина - 7.\n",
    "\n",
    "4) Выбранную модель стучайного леса я попросила предсказать значения из тестовой выборки и ее предсказания оказались лучше чем у случайной модели."
   ]
  }
 ],
 "metadata": {
  "ExecuteTimeLog": [
   {
    "duration": 2849,
    "start_time": "2022-10-21T19:49:40.173Z"
   },
   {
    "duration": 3,
    "start_time": "2022-10-21T19:49:43.024Z"
   },
   {
    "duration": 3645,
    "start_time": "2022-10-21T19:49:43.028Z"
   },
   {
    "duration": 4,
    "start_time": "2022-10-21T19:49:46.675Z"
   },
   {
    "duration": 24,
    "start_time": "2022-10-21T19:49:46.681Z"
   },
   {
    "duration": 11,
    "start_time": "2022-10-21T19:49:46.707Z"
   },
   {
    "duration": 15,
    "start_time": "2022-10-21T19:49:46.719Z"
   },
   {
    "duration": 7,
    "start_time": "2022-10-21T19:49:46.736Z"
   },
   {
    "duration": 10,
    "start_time": "2022-10-21T19:49:46.744Z"
   },
   {
    "duration": 7,
    "start_time": "2022-10-21T19:49:46.756Z"
   },
   {
    "duration": 4,
    "start_time": "2022-10-21T19:49:46.764Z"
   },
   {
    "duration": 5,
    "start_time": "2022-10-21T19:49:46.769Z"
   },
   {
    "duration": 6,
    "start_time": "2022-10-21T19:49:46.775Z"
   },
   {
    "duration": 4,
    "start_time": "2022-10-21T19:49:46.783Z"
   },
   {
    "duration": 33,
    "start_time": "2022-10-21T19:49:46.789Z"
   },
   {
    "duration": 5,
    "start_time": "2022-10-21T19:49:46.824Z"
   },
   {
    "duration": 7,
    "start_time": "2022-10-21T19:49:46.830Z"
   },
   {
    "duration": 5,
    "start_time": "2022-10-21T19:49:46.839Z"
   },
   {
    "duration": 12,
    "start_time": "2022-10-21T19:49:46.846Z"
   },
   {
    "duration": 12,
    "start_time": "2022-10-21T19:49:46.859Z"
   },
   {
    "duration": 120,
    "start_time": "2022-10-21T19:49:46.873Z"
   },
   {
    "duration": 0,
    "start_time": "2022-10-21T19:49:46.994Z"
   },
   {
    "duration": 0,
    "start_time": "2022-10-21T19:49:46.995Z"
   },
   {
    "duration": 0,
    "start_time": "2022-10-21T19:49:46.997Z"
   },
   {
    "duration": 0,
    "start_time": "2022-10-21T19:49:46.998Z"
   },
   {
    "duration": 0,
    "start_time": "2022-10-21T19:49:46.999Z"
   },
   {
    "duration": 0,
    "start_time": "2022-10-21T19:49:47.001Z"
   },
   {
    "duration": 0,
    "start_time": "2022-10-21T19:49:47.002Z"
   },
   {
    "duration": 0,
    "start_time": "2022-10-21T19:49:47.003Z"
   },
   {
    "duration": 0,
    "start_time": "2022-10-21T19:49:47.005Z"
   },
   {
    "duration": 0,
    "start_time": "2022-10-21T19:49:47.006Z"
   },
   {
    "duration": 0,
    "start_time": "2022-10-21T19:49:47.022Z"
   },
   {
    "duration": 0,
    "start_time": "2022-10-21T19:49:47.023Z"
   },
   {
    "duration": 1,
    "start_time": "2022-10-21T19:49:47.024Z"
   },
   {
    "duration": 0,
    "start_time": "2022-10-21T19:49:47.026Z"
   },
   {
    "duration": 0,
    "start_time": "2022-10-21T19:49:47.027Z"
   },
   {
    "duration": 0,
    "start_time": "2022-10-21T19:49:47.029Z"
   },
   {
    "duration": 0,
    "start_time": "2022-10-21T19:49:47.030Z"
   },
   {
    "duration": 212,
    "start_time": "2022-10-21T19:50:39.893Z"
   },
   {
    "duration": 20,
    "start_time": "2022-10-21T19:50:41.665Z"
   },
   {
    "duration": 24,
    "start_time": "2022-10-21T19:50:42.903Z"
   },
   {
    "duration": 18,
    "start_time": "2022-10-21T19:50:43.908Z"
   },
   {
    "duration": 9,
    "start_time": "2022-10-21T19:50:44.454Z"
   },
   {
    "duration": 13,
    "start_time": "2022-10-21T19:50:46.996Z"
   },
   {
    "duration": 10,
    "start_time": "2022-10-21T19:50:49.533Z"
   },
   {
    "duration": 5,
    "start_time": "2022-10-21T19:50:53.284Z"
   },
   {
    "duration": 5627,
    "start_time": "2022-10-21T19:50:54.933Z"
   },
   {
    "duration": 472,
    "start_time": "2022-10-21T19:51:41.433Z"
   },
   {
    "duration": 4,
    "start_time": "2022-10-21T19:53:25.793Z"
   },
   {
    "duration": 6,
    "start_time": "2022-10-21T19:53:26.454Z"
   },
   {
    "duration": 1162,
    "start_time": "2022-10-21T19:53:27.024Z"
   },
   {
    "duration": 3,
    "start_time": "2022-10-21T19:53:40.914Z"
   },
   {
    "duration": 28,
    "start_time": "2022-10-21T19:53:49.344Z"
   },
   {
    "duration": 4,
    "start_time": "2022-10-21T19:54:10.973Z"
   },
   {
    "duration": 7,
    "start_time": "2022-10-21T19:54:20.345Z"
   },
   {
    "duration": 88,
    "start_time": "2022-10-21T19:59:30.095Z"
   },
   {
    "duration": 1496,
    "start_time": "2022-10-22T17:58:35.605Z"
   },
   {
    "duration": 3,
    "start_time": "2022-10-22T17:58:41.296Z"
   },
   {
    "duration": 3262,
    "start_time": "2022-10-22T17:58:43.184Z"
   },
   {
    "duration": 4,
    "start_time": "2022-10-22T17:58:49.930Z"
   },
   {
    "duration": 24,
    "start_time": "2022-10-22T17:58:53.429Z"
   },
   {
    "duration": 14,
    "start_time": "2022-10-22T17:58:56.573Z"
   },
   {
    "duration": 17,
    "start_time": "2022-10-22T17:59:01.385Z"
   },
   {
    "duration": 8,
    "start_time": "2022-10-22T17:59:03.122Z"
   },
   {
    "duration": 19,
    "start_time": "2022-10-22T17:59:06.501Z"
   },
   {
    "duration": 9,
    "start_time": "2022-10-22T17:59:08.569Z"
   },
   {
    "duration": 6,
    "start_time": "2022-10-22T17:59:16.361Z"
   },
   {
    "duration": 5,
    "start_time": "2022-10-22T17:59:18.541Z"
   },
   {
    "duration": 5,
    "start_time": "2022-10-22T17:59:22.213Z"
   },
   {
    "duration": 3,
    "start_time": "2022-10-22T17:59:26.673Z"
   },
   {
    "duration": 4,
    "start_time": "2022-10-22T17:59:28.181Z"
   },
   {
    "duration": 3,
    "start_time": "2022-10-22T17:59:31.339Z"
   },
   {
    "duration": 3,
    "start_time": "2022-10-22T17:59:34.203Z"
   },
   {
    "duration": 3,
    "start_time": "2022-10-22T17:59:34.975Z"
   },
   {
    "duration": 11,
    "start_time": "2022-10-22T17:59:35.882Z"
   },
   {
    "duration": 13,
    "start_time": "2022-10-22T17:59:41.783Z"
   },
   {
    "duration": 102,
    "start_time": "2022-10-22T17:59:42.361Z"
   },
   {
    "duration": 20,
    "start_time": "2022-10-22T18:00:05.497Z"
   },
   {
    "duration": 234,
    "start_time": "2022-10-22T18:00:08.074Z"
   },
   {
    "duration": 21,
    "start_time": "2022-10-22T18:00:10.943Z"
   },
   {
    "duration": 25,
    "start_time": "2022-10-22T18:00:15.373Z"
   },
   {
    "duration": 22,
    "start_time": "2022-10-22T18:00:17.132Z"
   },
   {
    "duration": 8,
    "start_time": "2022-10-22T18:00:18.348Z"
   },
   {
    "duration": 14,
    "start_time": "2022-10-22T18:00:23.264Z"
   },
   {
    "duration": 10,
    "start_time": "2022-10-22T18:00:26.372Z"
   },
   {
    "duration": 8,
    "start_time": "2022-10-22T18:00:32.439Z"
   },
   {
    "duration": 6089,
    "start_time": "2022-10-22T18:00:39.555Z"
   },
   {
    "duration": 446,
    "start_time": "2022-10-22T18:00:53.853Z"
   },
   {
    "duration": 835,
    "start_time": "2022-10-22T18:01:34.431Z"
   },
   {
    "duration": 778,
    "start_time": "2022-10-22T18:01:50.713Z"
   },
   {
    "duration": 711,
    "start_time": "2022-10-22T18:02:42.216Z"
   },
   {
    "duration": 755,
    "start_time": "2022-10-22T18:03:12.068Z"
   },
   {
    "duration": 664,
    "start_time": "2022-10-22T18:03:22.864Z"
   },
   {
    "duration": 74,
    "start_time": "2022-10-22T18:05:00.483Z"
   },
   {
    "duration": 658,
    "start_time": "2022-10-22T18:05:10.727Z"
   },
   {
    "duration": 785,
    "start_time": "2022-10-22T18:05:32.493Z"
   },
   {
    "duration": 680,
    "start_time": "2022-10-22T18:05:43.796Z"
   },
   {
    "duration": 661,
    "start_time": "2022-10-22T18:05:59.286Z"
   },
   {
    "duration": 273,
    "start_time": "2022-10-22T18:06:40.527Z"
   },
   {
    "duration": 662,
    "start_time": "2022-10-22T18:07:36.679Z"
   },
   {
    "duration": 634,
    "start_time": "2022-10-22T18:07:57.336Z"
   },
   {
    "duration": 752,
    "start_time": "2022-10-22T18:08:11.612Z"
   },
   {
    "duration": 780,
    "start_time": "2022-10-22T18:08:46.142Z"
   },
   {
    "duration": 9,
    "start_time": "2022-10-22T18:44:32.107Z"
   },
   {
    "duration": 3,
    "start_time": "2022-10-22T18:46:24.030Z"
   },
   {
    "duration": 13,
    "start_time": "2022-10-22T18:46:27.677Z"
   },
   {
    "duration": 3,
    "start_time": "2022-10-22T18:47:49.961Z"
   },
   {
    "duration": 3,
    "start_time": "2022-10-22T18:47:54.499Z"
   },
   {
    "duration": 3,
    "start_time": "2022-10-22T18:48:15.128Z"
   },
   {
    "duration": 3,
    "start_time": "2022-10-22T18:48:39.614Z"
   },
   {
    "duration": 4,
    "start_time": "2022-10-22T18:48:57.083Z"
   },
   {
    "duration": 3,
    "start_time": "2022-10-22T18:50:00.299Z"
   },
   {
    "duration": 8,
    "start_time": "2022-10-22T18:51:26.355Z"
   },
   {
    "duration": 1312,
    "start_time": "2022-10-22T18:52:50.990Z"
   },
   {
    "duration": 2,
    "start_time": "2022-10-22T18:52:52.304Z"
   },
   {
    "duration": 684,
    "start_time": "2022-10-22T18:52:52.307Z"
   },
   {
    "duration": 4,
    "start_time": "2022-10-22T18:52:52.993Z"
   },
   {
    "duration": 23,
    "start_time": "2022-10-22T18:52:52.998Z"
   },
   {
    "duration": 11,
    "start_time": "2022-10-22T18:52:53.022Z"
   },
   {
    "duration": 17,
    "start_time": "2022-10-22T18:52:53.034Z"
   },
   {
    "duration": 9,
    "start_time": "2022-10-22T18:52:53.053Z"
   },
   {
    "duration": 12,
    "start_time": "2022-10-22T18:52:53.090Z"
   },
   {
    "duration": 9,
    "start_time": "2022-10-22T18:52:53.104Z"
   },
   {
    "duration": 5,
    "start_time": "2022-10-22T18:52:53.114Z"
   },
   {
    "duration": 6,
    "start_time": "2022-10-22T18:52:53.121Z"
   },
   {
    "duration": 5,
    "start_time": "2022-10-22T18:52:53.128Z"
   },
   {
    "duration": 5,
    "start_time": "2022-10-22T18:52:53.134Z"
   },
   {
    "duration": 6,
    "start_time": "2022-10-22T18:52:53.141Z"
   },
   {
    "duration": 5,
    "start_time": "2022-10-22T18:52:53.148Z"
   },
   {
    "duration": 38,
    "start_time": "2022-10-22T18:52:53.154Z"
   },
   {
    "duration": 4,
    "start_time": "2022-10-22T18:52:53.194Z"
   },
   {
    "duration": 108,
    "start_time": "2022-10-22T18:52:53.199Z"
   },
   {
    "duration": 0,
    "start_time": "2022-10-22T18:52:53.309Z"
   },
   {
    "duration": 0,
    "start_time": "2022-10-22T18:52:53.310Z"
   },
   {
    "duration": 0,
    "start_time": "2022-10-22T18:52:53.311Z"
   },
   {
    "duration": 0,
    "start_time": "2022-10-22T18:52:53.312Z"
   },
   {
    "duration": 0,
    "start_time": "2022-10-22T18:52:53.313Z"
   },
   {
    "duration": 0,
    "start_time": "2022-10-22T18:52:53.314Z"
   },
   {
    "duration": 0,
    "start_time": "2022-10-22T18:52:53.314Z"
   },
   {
    "duration": 0,
    "start_time": "2022-10-22T18:52:53.315Z"
   },
   {
    "duration": 0,
    "start_time": "2022-10-22T18:52:53.316Z"
   },
   {
    "duration": 0,
    "start_time": "2022-10-22T18:52:53.317Z"
   },
   {
    "duration": 0,
    "start_time": "2022-10-22T18:52:53.318Z"
   },
   {
    "duration": 0,
    "start_time": "2022-10-22T18:52:53.319Z"
   },
   {
    "duration": 0,
    "start_time": "2022-10-22T18:52:53.321Z"
   },
   {
    "duration": 0,
    "start_time": "2022-10-22T18:52:53.323Z"
   },
   {
    "duration": 0,
    "start_time": "2022-10-22T18:52:53.324Z"
   },
   {
    "duration": 0,
    "start_time": "2022-10-22T18:52:53.325Z"
   },
   {
    "duration": 0,
    "start_time": "2022-10-22T18:52:53.326Z"
   },
   {
    "duration": 0,
    "start_time": "2022-10-22T18:52:53.327Z"
   },
   {
    "duration": 0,
    "start_time": "2022-10-22T18:52:53.328Z"
   },
   {
    "duration": 0,
    "start_time": "2022-10-22T18:52:53.330Z"
   },
   {
    "duration": 0,
    "start_time": "2022-10-22T18:52:53.331Z"
   },
   {
    "duration": 0,
    "start_time": "2022-10-22T18:52:53.333Z"
   },
   {
    "duration": 1,
    "start_time": "2022-10-22T18:52:53.333Z"
   },
   {
    "duration": 0,
    "start_time": "2022-10-22T18:52:53.335Z"
   },
   {
    "duration": 0,
    "start_time": "2022-10-22T18:52:53.336Z"
   },
   {
    "duration": 0,
    "start_time": "2022-10-22T18:52:53.338Z"
   },
   {
    "duration": 0,
    "start_time": "2022-10-22T18:52:53.339Z"
   },
   {
    "duration": 0,
    "start_time": "2022-10-22T18:52:53.340Z"
   },
   {
    "duration": 1,
    "start_time": "2022-10-22T18:52:53.391Z"
   },
   {
    "duration": 0,
    "start_time": "2022-10-22T18:52:53.393Z"
   },
   {
    "duration": 0,
    "start_time": "2022-10-22T18:52:53.394Z"
   },
   {
    "duration": 0,
    "start_time": "2022-10-22T18:52:53.396Z"
   },
   {
    "duration": 0,
    "start_time": "2022-10-22T18:52:53.397Z"
   },
   {
    "duration": 5,
    "start_time": "2022-10-22T18:53:47.650Z"
   },
   {
    "duration": 9,
    "start_time": "2022-10-22T18:54:29.088Z"
   },
   {
    "duration": 5,
    "start_time": "2022-10-22T18:54:35.487Z"
   },
   {
    "duration": 5,
    "start_time": "2022-10-22T18:54:44.710Z"
   },
   {
    "duration": 4,
    "start_time": "2022-10-22T18:55:08.511Z"
   },
   {
    "duration": 1351,
    "start_time": "2022-10-22T18:58:42.697Z"
   },
   {
    "duration": 2,
    "start_time": "2022-10-22T18:58:44.050Z"
   },
   {
    "duration": 670,
    "start_time": "2022-10-22T18:58:44.054Z"
   },
   {
    "duration": 4,
    "start_time": "2022-10-22T18:58:44.726Z"
   },
   {
    "duration": 24,
    "start_time": "2022-10-22T18:58:44.731Z"
   },
   {
    "duration": 10,
    "start_time": "2022-10-22T18:58:44.756Z"
   },
   {
    "duration": 34,
    "start_time": "2022-10-22T18:58:44.767Z"
   },
   {
    "duration": 7,
    "start_time": "2022-10-22T18:58:44.803Z"
   },
   {
    "duration": 11,
    "start_time": "2022-10-22T18:58:44.812Z"
   },
   {
    "duration": 8,
    "start_time": "2022-10-22T18:58:44.825Z"
   },
   {
    "duration": 5,
    "start_time": "2022-10-22T18:58:44.835Z"
   },
   {
    "duration": 5,
    "start_time": "2022-10-22T18:58:44.842Z"
   },
   {
    "duration": 5,
    "start_time": "2022-10-22T18:58:44.848Z"
   },
   {
    "duration": 38,
    "start_time": "2022-10-22T18:58:44.854Z"
   },
   {
    "duration": 5,
    "start_time": "2022-10-22T18:58:44.893Z"
   },
   {
    "duration": 4,
    "start_time": "2022-10-22T18:58:44.899Z"
   },
   {
    "duration": 4,
    "start_time": "2022-10-22T18:58:44.904Z"
   },
   {
    "duration": 5,
    "start_time": "2022-10-22T18:58:44.909Z"
   },
   {
    "duration": 11,
    "start_time": "2022-10-22T18:58:44.916Z"
   },
   {
    "duration": 12,
    "start_time": "2022-10-22T18:58:44.928Z"
   },
   {
    "duration": 129,
    "start_time": "2022-10-22T18:58:44.942Z"
   },
   {
    "duration": 0,
    "start_time": "2022-10-22T18:58:45.073Z"
   },
   {
    "duration": 0,
    "start_time": "2022-10-22T18:58:45.074Z"
   },
   {
    "duration": 0,
    "start_time": "2022-10-22T18:58:45.075Z"
   },
   {
    "duration": 0,
    "start_time": "2022-10-22T18:58:45.076Z"
   },
   {
    "duration": 0,
    "start_time": "2022-10-22T18:58:45.077Z"
   },
   {
    "duration": 0,
    "start_time": "2022-10-22T18:58:45.078Z"
   },
   {
    "duration": 0,
    "start_time": "2022-10-22T18:58:45.079Z"
   },
   {
    "duration": 0,
    "start_time": "2022-10-22T18:58:45.080Z"
   },
   {
    "duration": 0,
    "start_time": "2022-10-22T18:58:45.091Z"
   },
   {
    "duration": 0,
    "start_time": "2022-10-22T18:58:45.092Z"
   },
   {
    "duration": 0,
    "start_time": "2022-10-22T18:58:45.093Z"
   },
   {
    "duration": 0,
    "start_time": "2022-10-22T18:58:45.094Z"
   },
   {
    "duration": 0,
    "start_time": "2022-10-22T18:58:45.095Z"
   },
   {
    "duration": 0,
    "start_time": "2022-10-22T18:58:45.096Z"
   },
   {
    "duration": 0,
    "start_time": "2022-10-22T18:58:45.097Z"
   },
   {
    "duration": 0,
    "start_time": "2022-10-22T18:58:45.098Z"
   },
   {
    "duration": 0,
    "start_time": "2022-10-22T18:58:45.099Z"
   },
   {
    "duration": 0,
    "start_time": "2022-10-22T18:58:45.100Z"
   },
   {
    "duration": 0,
    "start_time": "2022-10-22T18:58:45.101Z"
   },
   {
    "duration": 0,
    "start_time": "2022-10-22T18:58:45.102Z"
   },
   {
    "duration": 0,
    "start_time": "2022-10-22T18:58:45.103Z"
   },
   {
    "duration": 0,
    "start_time": "2022-10-22T18:58:45.104Z"
   },
   {
    "duration": 0,
    "start_time": "2022-10-22T18:58:45.105Z"
   },
   {
    "duration": 0,
    "start_time": "2022-10-22T18:58:45.106Z"
   },
   {
    "duration": 0,
    "start_time": "2022-10-22T18:58:45.107Z"
   },
   {
    "duration": 0,
    "start_time": "2022-10-22T18:58:45.108Z"
   },
   {
    "duration": 0,
    "start_time": "2022-10-22T18:58:45.109Z"
   },
   {
    "duration": 0,
    "start_time": "2022-10-22T18:58:45.110Z"
   },
   {
    "duration": 1401,
    "start_time": "2022-10-22T18:59:38.033Z"
   },
   {
    "duration": 3,
    "start_time": "2022-10-22T18:59:39.436Z"
   },
   {
    "duration": 645,
    "start_time": "2022-10-22T18:59:39.441Z"
   },
   {
    "duration": 5,
    "start_time": "2022-10-22T18:59:40.090Z"
   },
   {
    "duration": 24,
    "start_time": "2022-10-22T18:59:40.097Z"
   },
   {
    "duration": 11,
    "start_time": "2022-10-22T18:59:40.122Z"
   },
   {
    "duration": 17,
    "start_time": "2022-10-22T18:59:40.134Z"
   },
   {
    "duration": 39,
    "start_time": "2022-10-22T18:59:40.153Z"
   },
   {
    "duration": 12,
    "start_time": "2022-10-22T18:59:40.194Z"
   },
   {
    "duration": 8,
    "start_time": "2022-10-22T18:59:40.208Z"
   },
   {
    "duration": 5,
    "start_time": "2022-10-22T18:59:40.218Z"
   },
   {
    "duration": 4,
    "start_time": "2022-10-22T18:59:40.224Z"
   },
   {
    "duration": 3,
    "start_time": "2022-10-22T18:59:40.230Z"
   },
   {
    "duration": 5,
    "start_time": "2022-10-22T18:59:40.234Z"
   },
   {
    "duration": 5,
    "start_time": "2022-10-22T18:59:40.241Z"
   },
   {
    "duration": 45,
    "start_time": "2022-10-22T18:59:40.247Z"
   },
   {
    "duration": 5,
    "start_time": "2022-10-22T18:59:40.294Z"
   },
   {
    "duration": 4,
    "start_time": "2022-10-22T18:59:40.301Z"
   },
   {
    "duration": 13,
    "start_time": "2022-10-22T18:59:40.306Z"
   },
   {
    "duration": 12,
    "start_time": "2022-10-22T18:59:40.320Z"
   },
   {
    "duration": 257,
    "start_time": "2022-10-22T18:59:40.334Z"
   },
   {
    "duration": 19,
    "start_time": "2022-10-22T18:59:40.593Z"
   },
   {
    "duration": 23,
    "start_time": "2022-10-22T18:59:40.613Z"
   },
   {
    "duration": 20,
    "start_time": "2022-10-22T18:59:40.638Z"
   },
   {
    "duration": 34,
    "start_time": "2022-10-22T18:59:40.660Z"
   },
   {
    "duration": 10,
    "start_time": "2022-10-22T18:59:40.696Z"
   },
   {
    "duration": 9,
    "start_time": "2022-10-22T18:59:40.707Z"
   },
   {
    "duration": 5,
    "start_time": "2022-10-22T18:59:40.719Z"
   },
   {
    "duration": 6175,
    "start_time": "2022-10-22T18:59:40.725Z"
   },
   {
    "duration": 669,
    "start_time": "2022-10-22T18:59:46.902Z"
   },
   {
    "duration": 4,
    "start_time": "2022-10-22T18:59:47.572Z"
   },
   {
    "duration": 21,
    "start_time": "2022-10-22T18:59:47.577Z"
   },
   {
    "duration": 2001,
    "start_time": "2022-10-22T18:59:47.600Z"
   },
   {
    "duration": 4,
    "start_time": "2022-10-22T18:59:49.603Z"
   },
   {
    "duration": 28,
    "start_time": "2022-10-22T18:59:49.608Z"
   },
   {
    "duration": 6,
    "start_time": "2022-10-22T18:59:49.638Z"
   },
   {
    "duration": 7,
    "start_time": "2022-10-22T18:59:49.646Z"
   },
   {
    "duration": 7,
    "start_time": "2022-10-22T18:59:49.654Z"
   },
   {
    "duration": 4,
    "start_time": "2022-10-22T18:59:49.662Z"
   },
   {
    "duration": 5,
    "start_time": "2022-10-22T18:59:49.691Z"
   },
   {
    "duration": 8,
    "start_time": "2022-10-22T18:59:49.699Z"
   },
   {
    "duration": 2586,
    "start_time": "2022-10-22T18:59:49.709Z"
   },
   {
    "duration": 21678,
    "start_time": "2022-10-22T18:59:52.298Z"
   },
   {
    "duration": 158720,
    "start_time": "2022-10-22T19:00:13.978Z"
   },
   {
    "duration": 5,
    "start_time": "2022-10-22T19:02:52.700Z"
   },
   {
    "duration": 3033,
    "start_time": "2022-10-22T19:02:52.706Z"
   },
   {
    "duration": 0,
    "start_time": "2022-10-22T19:02:55.740Z"
   },
   {
    "duration": 0,
    "start_time": "2022-10-22T19:02:55.742Z"
   },
   {
    "duration": 3,
    "start_time": "2022-10-22T19:03:29.186Z"
   },
   {
    "duration": 1351,
    "start_time": "2022-10-22T19:03:46.303Z"
   },
   {
    "duration": 3,
    "start_time": "2022-10-22T19:03:47.656Z"
   },
   {
    "duration": 673,
    "start_time": "2022-10-22T19:03:47.660Z"
   },
   {
    "duration": 4,
    "start_time": "2022-10-22T19:03:48.335Z"
   },
   {
    "duration": 17,
    "start_time": "2022-10-22T19:03:48.341Z"
   },
   {
    "duration": 11,
    "start_time": "2022-10-22T19:03:48.359Z"
   },
   {
    "duration": 17,
    "start_time": "2022-10-22T19:03:48.391Z"
   },
   {
    "duration": 10,
    "start_time": "2022-10-22T19:03:48.412Z"
   },
   {
    "duration": 16,
    "start_time": "2022-10-22T19:03:48.424Z"
   },
   {
    "duration": 9,
    "start_time": "2022-10-22T19:03:48.443Z"
   },
   {
    "duration": 7,
    "start_time": "2022-10-22T19:03:48.454Z"
   },
   {
    "duration": 31,
    "start_time": "2022-10-22T19:03:48.462Z"
   },
   {
    "duration": 10,
    "start_time": "2022-10-22T19:03:48.495Z"
   },
   {
    "duration": 8,
    "start_time": "2022-10-22T19:03:48.506Z"
   },
   {
    "duration": 6,
    "start_time": "2022-10-22T19:03:48.515Z"
   },
   {
    "duration": 5,
    "start_time": "2022-10-22T19:03:48.523Z"
   },
   {
    "duration": 4,
    "start_time": "2022-10-22T19:03:48.529Z"
   },
   {
    "duration": 8,
    "start_time": "2022-10-22T19:03:48.534Z"
   },
   {
    "duration": 18,
    "start_time": "2022-10-22T19:03:48.543Z"
   },
   {
    "duration": 34,
    "start_time": "2022-10-22T19:03:48.562Z"
   },
   {
    "duration": 235,
    "start_time": "2022-10-22T19:03:48.598Z"
   },
   {
    "duration": 19,
    "start_time": "2022-10-22T19:03:48.835Z"
   },
   {
    "duration": 38,
    "start_time": "2022-10-22T19:03:48.856Z"
   },
   {
    "duration": 19,
    "start_time": "2022-10-22T19:03:48.896Z"
   },
   {
    "duration": 9,
    "start_time": "2022-10-22T19:03:48.917Z"
   },
   {
    "duration": 10,
    "start_time": "2022-10-22T19:03:48.927Z"
   },
   {
    "duration": 9,
    "start_time": "2022-10-22T19:03:48.938Z"
   },
   {
    "duration": 5,
    "start_time": "2022-10-22T19:03:48.950Z"
   },
   {
    "duration": 6008,
    "start_time": "2022-10-22T19:03:48.956Z"
   },
   {
    "duration": 760,
    "start_time": "2022-10-22T19:03:54.966Z"
   },
   {
    "duration": 4,
    "start_time": "2022-10-22T19:03:55.727Z"
   },
   {
    "duration": 7,
    "start_time": "2022-10-22T19:03:55.732Z"
   },
   {
    "duration": 1288,
    "start_time": "2022-10-22T19:03:55.741Z"
   },
   {
    "duration": 4,
    "start_time": "2022-10-22T19:03:57.030Z"
   },
   {
    "duration": 29,
    "start_time": "2022-10-22T19:03:57.035Z"
   },
   {
    "duration": 3,
    "start_time": "2022-10-22T19:03:57.066Z"
   },
   {
    "duration": 24,
    "start_time": "2022-10-22T19:03:57.071Z"
   },
   {
    "duration": 5,
    "start_time": "2022-10-22T19:03:57.097Z"
   },
   {
    "duration": 7,
    "start_time": "2022-10-22T19:03:57.103Z"
   },
   {
    "duration": 7,
    "start_time": "2022-10-22T19:03:57.111Z"
   },
   {
    "duration": 6,
    "start_time": "2022-10-22T19:03:57.120Z"
   },
   {
    "duration": 2276,
    "start_time": "2022-10-22T19:03:57.127Z"
   },
   {
    "duration": 22376,
    "start_time": "2022-10-22T19:03:59.405Z"
   },
   {
    "duration": 259598,
    "start_time": "2022-10-22T19:04:21.784Z"
   },
   {
    "duration": 8,
    "start_time": "2022-10-22T19:08:41.383Z"
   },
   {
    "duration": 48318,
    "start_time": "2022-10-22T19:08:41.393Z"
   },
   {
    "duration": 7,
    "start_time": "2022-10-22T19:09:29.713Z"
   },
   {
    "duration": 6,
    "start_time": "2022-10-22T19:09:29.722Z"
   },
   {
    "duration": 21745,
    "start_time": "2022-10-22T19:13:31.355Z"
   },
   {
    "duration": 21062,
    "start_time": "2022-10-22T19:15:40.003Z"
   },
   {
    "duration": 1436,
    "start_time": "2022-10-22T19:16:59.564Z"
   },
   {
    "duration": 3,
    "start_time": "2022-10-22T19:17:01.003Z"
   },
   {
    "duration": 718,
    "start_time": "2022-10-22T19:17:01.008Z"
   },
   {
    "duration": 4,
    "start_time": "2022-10-22T19:17:01.728Z"
   },
   {
    "duration": 23,
    "start_time": "2022-10-22T19:17:01.733Z"
   },
   {
    "duration": 10,
    "start_time": "2022-10-22T19:17:01.758Z"
   },
   {
    "duration": 33,
    "start_time": "2022-10-22T19:17:01.769Z"
   },
   {
    "duration": 8,
    "start_time": "2022-10-22T19:17:01.804Z"
   },
   {
    "duration": 12,
    "start_time": "2022-10-22T19:17:01.814Z"
   },
   {
    "duration": 10,
    "start_time": "2022-10-22T19:17:01.830Z"
   },
   {
    "duration": 6,
    "start_time": "2022-10-22T19:17:01.842Z"
   },
   {
    "duration": 43,
    "start_time": "2022-10-22T19:17:01.850Z"
   },
   {
    "duration": 7,
    "start_time": "2022-10-22T19:17:01.895Z"
   },
   {
    "duration": 9,
    "start_time": "2022-10-22T19:17:01.904Z"
   },
   {
    "duration": 20,
    "start_time": "2022-10-22T19:17:01.914Z"
   },
   {
    "duration": 8,
    "start_time": "2022-10-22T19:17:01.935Z"
   },
   {
    "duration": 8,
    "start_time": "2022-10-22T19:17:01.944Z"
   },
   {
    "duration": 8,
    "start_time": "2022-10-22T19:17:01.953Z"
   },
   {
    "duration": 14,
    "start_time": "2022-10-22T19:17:01.963Z"
   },
   {
    "duration": 28,
    "start_time": "2022-10-22T19:17:01.979Z"
   },
   {
    "duration": 260,
    "start_time": "2022-10-22T19:17:02.009Z"
   },
   {
    "duration": 26,
    "start_time": "2022-10-22T19:17:02.272Z"
   },
   {
    "duration": 31,
    "start_time": "2022-10-22T19:17:02.299Z"
   },
   {
    "duration": 20,
    "start_time": "2022-10-22T19:17:02.332Z"
   },
   {
    "duration": 10,
    "start_time": "2022-10-22T19:17:02.353Z"
   },
   {
    "duration": 33,
    "start_time": "2022-10-22T19:17:02.364Z"
   },
   {
    "duration": 11,
    "start_time": "2022-10-22T19:17:02.398Z"
   },
   {
    "duration": 8,
    "start_time": "2022-10-22T19:17:02.413Z"
   },
   {
    "duration": 6094,
    "start_time": "2022-10-22T19:17:02.422Z"
   },
   {
    "duration": 690,
    "start_time": "2022-10-22T19:17:08.518Z"
   },
   {
    "duration": 4,
    "start_time": "2022-10-22T19:17:09.210Z"
   },
   {
    "duration": 9,
    "start_time": "2022-10-22T19:17:09.216Z"
   },
   {
    "duration": 1249,
    "start_time": "2022-10-22T19:17:09.228Z"
   },
   {
    "duration": 12,
    "start_time": "2022-10-22T19:17:10.479Z"
   },
   {
    "duration": 31,
    "start_time": "2022-10-22T19:17:10.492Z"
   },
   {
    "duration": 4,
    "start_time": "2022-10-22T19:17:10.524Z"
   },
   {
    "duration": 14,
    "start_time": "2022-10-22T19:17:10.529Z"
   },
   {
    "duration": 6,
    "start_time": "2022-10-22T19:17:10.544Z"
   },
   {
    "duration": 4,
    "start_time": "2022-10-22T19:17:10.551Z"
   },
   {
    "duration": 35,
    "start_time": "2022-10-22T19:17:10.556Z"
   },
   {
    "duration": 5,
    "start_time": "2022-10-22T19:17:10.593Z"
   },
   {
    "duration": 2792,
    "start_time": "2022-10-22T19:17:10.600Z"
   },
   {
    "duration": 21923,
    "start_time": "2022-10-22T19:17:13.394Z"
   },
   {
    "duration": 259348,
    "start_time": "2022-10-22T19:17:35.319Z"
   },
   {
    "duration": 5,
    "start_time": "2022-10-22T19:21:54.669Z"
   },
   {
    "duration": 50647,
    "start_time": "2022-10-22T19:21:54.675Z"
   },
   {
    "duration": 6,
    "start_time": "2022-10-22T19:22:45.324Z"
   },
   {
    "duration": 5,
    "start_time": "2022-10-22T19:22:45.332Z"
   }
  ],
  "kernelspec": {
   "display_name": "Python 3 (ipykernel)",
   "language": "python",
   "name": "python3"
  },
  "language_info": {
   "codemirror_mode": {
    "name": "ipython",
    "version": 3
   },
   "file_extension": ".py",
   "mimetype": "text/x-python",
   "name": "python",
   "nbconvert_exporter": "python",
   "pygments_lexer": "ipython3",
   "version": "3.9.7"
  },
  "toc": {
   "base_numbering": 1,
   "nav_menu": {},
   "number_sections": true,
   "sideBar": true,
   "skip_h1_title": true,
   "title_cell": "Содержание",
   "title_sidebar": "Contents",
   "toc_cell": true,
   "toc_position": {
    "height": "calc(100% - 180px)",
    "left": "10px",
    "top": "150px",
    "width": "165px"
   },
   "toc_section_display": true,
   "toc_window_display": true
  }
 },
 "nbformat": 4,
 "nbformat_minor": 4
}
